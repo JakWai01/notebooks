{
 "cells": [
  {
   "cell_type": "markdown",
   "id": "herbal-blend",
   "metadata": {},
   "source": [
    "# Data Structures and Algorithms in Python"
   ]
  },
  {
   "cell_type": "markdown",
   "id": "inappropriate-dialogue",
   "metadata": {},
   "source": [
    "## Python Primer"
   ]
  },
  {
   "cell_type": "code",
   "execution_count": 1,
   "id": "multiple-darkness",
   "metadata": {},
   "outputs": [
    {
     "data": {
      "text/plain": [
       "True"
      ]
     },
     "execution_count": 1,
     "metadata": {},
     "output_type": "execute_result"
    }
   ],
   "source": [
    "# R-1.1\n",
    "def is_multiple(n, m):\n",
    "    return n % m == 0\n",
    "\n",
    "is_multiple(12,3)"
   ]
  },
  {
   "cell_type": "code",
   "execution_count": 2,
   "id": "apart-anaheim",
   "metadata": {},
   "outputs": [
    {
     "data": {
      "text/plain": [
       "True"
      ]
     },
     "execution_count": 2,
     "metadata": {},
     "output_type": "execute_result"
    }
   ],
   "source": [
    "# R-1.2\n",
    "def is_even(k):\n",
    "    return k % 2 == 0\n",
    "\n",
    "is_even(2)"
   ]
  },
  {
   "cell_type": "code",
   "execution_count": 3,
   "id": "attractive-enlargement",
   "metadata": {
    "scrolled": true
   },
   "outputs": [
    {
     "data": {
      "text/plain": [
       "(1, 233)"
      ]
     },
     "execution_count": 3,
     "metadata": {},
     "output_type": "execute_result"
    }
   ],
   "source": [
    "# R-1.3\n",
    "def minmax(data):\n",
    "    min = data[0]\n",
    "    max = data[0]\n",
    "    \n",
    "    for i in data:\n",
    "        if i < min:\n",
    "            min = i\n",
    "        if i > max: \n",
    "            max = i\n",
    "    \n",
    "    return min, max\n",
    "\n",
    "minmax([1,3,4,5,6,2,233,3,7])"
   ]
  },
  {
   "cell_type": "code",
   "execution_count": 4,
   "id": "unknown-marketing",
   "metadata": {},
   "outputs": [
    {
     "data": {
      "text/plain": [
       "30"
      ]
     },
     "execution_count": 4,
     "metadata": {},
     "output_type": "execute_result"
    }
   ],
   "source": [
    "# R-1.4\n",
    "def sum_of_squares(n):\n",
    "    sum = 0\n",
    "    \n",
    "    for i in range(n,0, -1):\n",
    "        sum += i * i\n",
    "        \n",
    "    return sum\n",
    "\n",
    "sum_of_squares(4)\n",
    "        "
   ]
  },
  {
   "cell_type": "code",
   "execution_count": 5,
   "id": "hairy-relations",
   "metadata": {},
   "outputs": [
    {
     "data": {
      "text/plain": [
       "30"
      ]
     },
     "execution_count": 5,
     "metadata": {},
     "output_type": "execute_result"
    }
   ],
   "source": [
    "# R-1.5\n",
    "sum(i * i for i in range(4, 0, -1))"
   ]
  },
  {
   "cell_type": "code",
   "execution_count": 6,
   "id": "minute-sheffield",
   "metadata": {},
   "outputs": [
    {
     "data": {
      "text/plain": [
       "10"
      ]
     },
     "execution_count": 6,
     "metadata": {},
     "output_type": "execute_result"
    }
   ],
   "source": [
    "# R-1.6\n",
    "def sum_of_squares_odd(n):\n",
    "    sum = 0\n",
    "    \n",
    "    for i in range(n-1,0, -1):\n",
    "        if i % 2 != 0:\n",
    "            sum += i * i\n",
    "    \n",
    "    return sum\n",
    "\n",
    "sum_of_squares_odd(4)"
   ]
  },
  {
   "cell_type": "code",
   "execution_count": 7,
   "id": "absent-rehabilitation",
   "metadata": {},
   "outputs": [
    {
     "data": {
      "text/plain": [
       "10"
      ]
     },
     "execution_count": 7,
     "metadata": {},
     "output_type": "execute_result"
    }
   ],
   "source": [
    "# R-1.7\n",
    "sum(i * i for i in range(4-1, 0, -1) if i % 2 != 0)"
   ]
  },
  {
   "cell_type": "code",
   "execution_count": 8,
   "id": "positive-election",
   "metadata": {},
   "outputs": [
    {
     "name": "stdout",
     "output_type": "stream",
     "text": [
      "k\n",
      "k\n"
     ]
    }
   ],
   "source": [
    "# R-1.8\n",
    "s = \"jakob\"\n",
    "s_length = len(s)\n",
    "\n",
    "print(s[-3])\n",
    "print(s[s_length - 3])"
   ]
  },
  {
   "cell_type": "code",
   "execution_count": 9,
   "id": "insured-cattle",
   "metadata": {},
   "outputs": [
    {
     "name": "stdout",
     "output_type": "stream",
     "text": [
      "50\n",
      "60\n",
      "70\n",
      "80\n"
     ]
    }
   ],
   "source": [
    "# R-1.9\n",
    "for i in range(50, 90, 10):\n",
    "    print(i)"
   ]
  },
  {
   "cell_type": "code",
   "execution_count": 10,
   "id": "nearby-customs",
   "metadata": {},
   "outputs": [
    {
     "name": "stdout",
     "output_type": "stream",
     "text": [
      "8\n",
      "6\n",
      "4\n",
      "2\n",
      "0\n",
      "-2\n",
      "-4\n",
      "-6\n",
      "-8\n"
     ]
    }
   ],
   "source": [
    "# R-1.10\n",
    "for i in range(8, -10, -2):\n",
    "    print(i)"
   ]
  },
  {
   "cell_type": "code",
   "execution_count": 11,
   "id": "worldwide-folks",
   "metadata": {},
   "outputs": [
    {
     "name": "stdout",
     "output_type": "stream",
     "text": [
      "[1, 2, 4, 8, 16, 32, 64, 128, 256]\n"
     ]
    }
   ],
   "source": [
    "# R-1.11\n",
    "print([2**i for i in range(0, 9)])"
   ]
  },
  {
   "cell_type": "code",
   "execution_count": 12,
   "id": "adolescent-theater",
   "metadata": {},
   "outputs": [
    {
     "data": {
      "text/plain": [
       "6"
      ]
     },
     "execution_count": 12,
     "metadata": {},
     "output_type": "execute_result"
    }
   ],
   "source": [
    "# R-1.12\n",
    "import random\n",
    "\n",
    "def choice(data):\n",
    "    data_length = len(data)\n",
    "    return data[random.randrange(data_length)]\n",
    "        \n",
    "choice([0,2,3,4,5,6])"
   ]
  },
  {
   "cell_type": "code",
   "execution_count": 15,
   "id": "romantic-facing",
   "metadata": {},
   "outputs": [
    {
     "name": "stdout",
     "output_type": "stream",
     "text": [
      "[5, 4, 3, 2, 1]\n",
      "[5, 4, 3, 2, 1]\n"
     ]
    }
   ],
   "source": [
    "# C-1.13\n",
    "data = [1,2,3,4,5]\n",
    "print(data[::-1])\n",
    "print(list(reversed(data)))"
   ]
  },
  {
   "cell_type": "code",
   "execution_count": 25,
   "id": "brief-constitutional",
   "metadata": {},
   "outputs": [
    {
     "data": {
      "text/plain": [
       "True"
      ]
     },
     "execution_count": 25,
     "metadata": {},
     "output_type": "execute_result"
    }
   ],
   "source": [
    "# C-1.14\n",
    "def distinct_product(data):\n",
    "    nums = set(data)\n",
    "    \n",
    "    for i in nums:\n",
    "        for j in nums:\n",
    "            if i * j % 2 != 0 and i != j:\n",
    "                return True\n",
    "    \n",
    "    return False\n",
    "\n",
    "distinct_product([1, 4, 5])"
   ]
  },
  {
   "cell_type": "code",
   "execution_count": 31,
   "id": "grave-feedback",
   "metadata": {},
   "outputs": [
    {
     "data": {
      "text/plain": [
       "True"
      ]
     },
     "execution_count": 31,
     "metadata": {},
     "output_type": "execute_result"
    }
   ],
   "source": [
    "# C-1.15\n",
    "def is_distinct(data):\n",
    "    nums = set(data)\n",
    "    \n",
    "    if len(nums) != len(data):\n",
    "        return False\n",
    "    return True\n",
    "\n",
    "is_distinct([1,2])"
   ]
  },
  {
   "cell_type": "code",
   "execution_count": 39,
   "id": "secondary-cattle",
   "metadata": {},
   "outputs": [
    {
     "name": "stdout",
     "output_type": "stream",
     "text": [
      "[2, 4]\n"
     ]
    }
   ],
   "source": [
    "# C-1.16\n",
    "def scale(data, factor):\n",
    "    for i in range(len(data)):\n",
    "        data[i] *= factor\n",
    "        \n",
    "data = [1,2]\n",
    "scale(data, 2)\n",
    "print(data)\n",
    "\n",
    "# This works because we refer to elements in the list"
   ]
  },
  {
   "cell_type": "code",
   "execution_count": 41,
   "id": "suburban-adjustment",
   "metadata": {},
   "outputs": [
    {
     "name": "stdout",
     "output_type": "stream",
     "text": [
      "[1, 2]\n"
     ]
    }
   ],
   "source": [
    "# C-1.17\n",
    "def scale(data, factor):\n",
    "    for val in data:\n",
    "        val *= factor\n",
    "\n",
    "data = [1,2]\n",
    "scale(data, 2)\n",
    "print(data)\n",
    "\n",
    "# This does not work because we are just taking the values of the elements of the list,\n",
    "# but aren't referencing them directly"
   ]
  },
  {
   "cell_type": "code",
   "execution_count": 70,
   "id": "collective-strengthening",
   "metadata": {},
   "outputs": [
    {
     "data": {
      "text/plain": [
       "[0, 2, 6, 12, 20, 30, 42, 56, 72, 90]"
      ]
     },
     "execution_count": 70,
     "metadata": {},
     "output_type": "execute_result"
    }
   ],
   "source": [
    "# C-1.18\n",
    "# 0 2 6 12 20 30 ...\n",
    "[k*(k-1) for k in range(1, 11)]"
   ]
  },
  {
   "cell_type": "code",
   "execution_count": 75,
   "id": "correct-candle",
   "metadata": {},
   "outputs": [
    {
     "data": {
      "text/plain": [
       "['a',\n",
       " 'b',\n",
       " 'c',\n",
       " 'd',\n",
       " 'e',\n",
       " 'f',\n",
       " 'g',\n",
       " 'h',\n",
       " 'i',\n",
       " 'j',\n",
       " 'k',\n",
       " 'l',\n",
       " 'm',\n",
       " 'n',\n",
       " 'o',\n",
       " 'p',\n",
       " 'q',\n",
       " 'r',\n",
       " 's',\n",
       " 't',\n",
       " 'u',\n",
       " 'v',\n",
       " 'w',\n",
       " 'x',\n",
       " 'y',\n",
       " 'z']"
      ]
     },
     "execution_count": 75,
     "metadata": {},
     "output_type": "execute_result"
    }
   ],
   "source": [
    "# C-1.19\n",
    "[chr(k) for k in range(97, 123)]"
   ]
  },
  {
   "cell_type": "code",
   "execution_count": 294,
   "id": "demographic-rendering",
   "metadata": {},
   "outputs": [
    {
     "data": {
      "text/plain": [
       "[2, 1, 23, 5, 2, 3]"
      ]
     },
     "execution_count": 294,
     "metadata": {},
     "output_type": "execute_result"
    }
   ],
   "source": [
    "# C-1.20\n",
    "def shuffle(data):\n",
    "    used = []\n",
    "    count = 0\n",
    "    number_of_occurences_data = 0\n",
    "    number_of_occurences_used = 0\n",
    "    \n",
    "    while len(data) > len(used):\n",
    "        num = data[random.randint(0, len(data)-1)]\n",
    "        for i in data:\n",
    "            if i == num:\n",
    "                number_of_occurences_data += 1\n",
    "                \n",
    "        for i in used:\n",
    "            if i == num:\n",
    "                number_of_occurences_used += 1\n",
    "                \n",
    "        if num not in used or number_of_occurences_data > number_of_occurences_used:\n",
    "            used.append(num)\n",
    "            count += 1\n",
    "        number_of_occurences_data = 0\n",
    "        number_of_occurences_used = 0\n",
    "        \n",
    "    return used\n",
    "\n",
    "shuffle([1,2,5,23,3, 2])"
   ]
  },
  {
   "cell_type": "code",
   "execution_count": 300,
   "id": "designing-activation",
   "metadata": {},
   "outputs": [
    {
     "ename": "KeyboardInterrupt",
     "evalue": "Interrupted by user",
     "output_type": "error",
     "traceback": [
      "\u001b[0;31m---------------------------------------------------------------------------\u001b[0m",
      "\u001b[0;31mKeyboardInterrupt\u001b[0m                         Traceback (most recent call last)",
      "\u001b[0;32m<ipython-input-300-09c90eb03231>\u001b[0m in \u001b[0;36m<module>\u001b[0;34m\u001b[0m\n\u001b[1;32m      4\u001b[0m     \u001b[0;32mwhile\u001b[0m \u001b[0;32mTrue\u001b[0m\u001b[0;34m:\u001b[0m\u001b[0;34m\u001b[0m\u001b[0;34m\u001b[0m\u001b[0m\n\u001b[1;32m      5\u001b[0m \u001b[0;34m\u001b[0m\u001b[0m\n\u001b[0;32m----> 6\u001b[0;31m         \u001b[0minputArray\u001b[0m\u001b[0;34m.\u001b[0m\u001b[0mappend\u001b[0m\u001b[0;34m(\u001b[0m\u001b[0minput\u001b[0m\u001b[0;34m(\u001b[0m\u001b[0;34m\"Please enter something: \"\u001b[0m\u001b[0;34m)\u001b[0m\u001b[0;34m)\u001b[0m\u001b[0;34m\u001b[0m\u001b[0;34m\u001b[0m\u001b[0m\n\u001b[0m\u001b[1;32m      7\u001b[0m \u001b[0;32mexcept\u001b[0m \u001b[0mEOFError\u001b[0m\u001b[0;34m:\u001b[0m\u001b[0;34m\u001b[0m\u001b[0;34m\u001b[0m\u001b[0m\n\u001b[1;32m      8\u001b[0m     \u001b[0;32mfor\u001b[0m \u001b[0mi\u001b[0m \u001b[0;32min\u001b[0m \u001b[0mreversed\u001b[0m\u001b[0;34m(\u001b[0m\u001b[0minputArray\u001b[0m\u001b[0;34m)\u001b[0m\u001b[0;34m:\u001b[0m\u001b[0;34m\u001b[0m\u001b[0;34m\u001b[0m\u001b[0m\n",
      "\u001b[0;32m~/.local/lib/python3.9/site-packages/ipykernel/kernelbase.py\u001b[0m in \u001b[0;36mraw_input\u001b[0;34m(self, prompt)\u001b[0m\n\u001b[1;32m    846\u001b[0m                 \u001b[0;34m\"raw_input was called, but this frontend does not support input requests.\"\u001b[0m\u001b[0;34m\u001b[0m\u001b[0;34m\u001b[0m\u001b[0m\n\u001b[1;32m    847\u001b[0m             )\n\u001b[0;32m--> 848\u001b[0;31m         return self._input_request(str(prompt),\n\u001b[0m\u001b[1;32m    849\u001b[0m             \u001b[0mself\u001b[0m\u001b[0;34m.\u001b[0m\u001b[0m_parent_ident\u001b[0m\u001b[0;34m,\u001b[0m\u001b[0;34m\u001b[0m\u001b[0;34m\u001b[0m\u001b[0m\n\u001b[1;32m    850\u001b[0m             \u001b[0mself\u001b[0m\u001b[0;34m.\u001b[0m\u001b[0m_parent_header\u001b[0m\u001b[0;34m,\u001b[0m\u001b[0;34m\u001b[0m\u001b[0;34m\u001b[0m\u001b[0m\n",
      "\u001b[0;32m~/.local/lib/python3.9/site-packages/ipykernel/kernelbase.py\u001b[0m in \u001b[0;36m_input_request\u001b[0;34m(self, prompt, ident, parent, password)\u001b[0m\n\u001b[1;32m    890\u001b[0m             \u001b[0;32mexcept\u001b[0m \u001b[0mKeyboardInterrupt\u001b[0m\u001b[0;34m:\u001b[0m\u001b[0;34m\u001b[0m\u001b[0;34m\u001b[0m\u001b[0m\n\u001b[1;32m    891\u001b[0m                 \u001b[0;31m# re-raise KeyboardInterrupt, to truncate traceback\u001b[0m\u001b[0;34m\u001b[0m\u001b[0;34m\u001b[0m\u001b[0;34m\u001b[0m\u001b[0m\n\u001b[0;32m--> 892\u001b[0;31m                 \u001b[0;32mraise\u001b[0m \u001b[0mKeyboardInterrupt\u001b[0m\u001b[0;34m(\u001b[0m\u001b[0;34m\"Interrupted by user\"\u001b[0m\u001b[0;34m)\u001b[0m \u001b[0;32mfrom\u001b[0m \u001b[0;32mNone\u001b[0m\u001b[0;34m\u001b[0m\u001b[0;34m\u001b[0m\u001b[0m\n\u001b[0m\u001b[1;32m    893\u001b[0m             \u001b[0;32mexcept\u001b[0m \u001b[0mException\u001b[0m \u001b[0;32mas\u001b[0m \u001b[0me\u001b[0m\u001b[0;34m:\u001b[0m\u001b[0;34m\u001b[0m\u001b[0;34m\u001b[0m\u001b[0m\n\u001b[1;32m    894\u001b[0m                 \u001b[0mself\u001b[0m\u001b[0;34m.\u001b[0m\u001b[0mlog\u001b[0m\u001b[0;34m.\u001b[0m\u001b[0mwarning\u001b[0m\u001b[0;34m(\u001b[0m\u001b[0;34m\"Invalid Message:\"\u001b[0m\u001b[0;34m,\u001b[0m \u001b[0mexc_info\u001b[0m\u001b[0;34m=\u001b[0m\u001b[0;32mTrue\u001b[0m\u001b[0;34m)\u001b[0m\u001b[0;34m\u001b[0m\u001b[0;34m\u001b[0m\u001b[0m\n",
      "\u001b[0;31mKeyboardInterrupt\u001b[0m: Interrupted by user"
     ]
    },
    {
     "name": "stdout",
     "output_type": "stream",
     "text": [
      "Please enter something: asd\n"
     ]
    }
   ],
   "source": [
    "# C-1.21\n",
    "inputArray = []\n",
    "try:\n",
    "    while True:\n",
    "        \n",
    "        inputArray.append(input(\"Please enter something: \"))\n",
    "except EOFError:\n",
    "    for i in reversed(inputArray):\n",
    "        print(i)"
   ]
  },
  {
   "cell_type": "code",
   "execution_count": 301,
   "id": "endangered-employee",
   "metadata": {},
   "outputs": [],
   "source": [
    "# C-1.22"
   ]
  }
 ],
 "metadata": {
  "kernelspec": {
   "display_name": "Python 3",
   "language": "python",
   "name": "python3"
  },
  "language_info": {
   "codemirror_mode": {
    "name": "ipython",
    "version": 3
   },
   "file_extension": ".py",
   "mimetype": "text/x-python",
   "name": "python",
   "nbconvert_exporter": "python",
   "pygments_lexer": "ipython3",
   "version": "3.9.4"
  }
 },
 "nbformat": 4,
 "nbformat_minor": 5
}
