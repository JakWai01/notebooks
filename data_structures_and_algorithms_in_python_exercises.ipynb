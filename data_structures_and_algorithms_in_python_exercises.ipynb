{
 "cells": [
  {
   "cell_type": "markdown",
   "id": "herbal-blend",
   "metadata": {},
   "source": [
    "# Data Structures and Algorithms in Python"
   ]
  },
  {
   "cell_type": "markdown",
   "id": "inappropriate-dialogue",
   "metadata": {},
   "source": [
    "## Python Primer"
   ]
  },
  {
   "cell_type": "code",
   "execution_count": 28,
   "id": "multiple-darkness",
   "metadata": {},
   "outputs": [
    {
     "data": {
      "text/plain": [
       "True"
      ]
     },
     "execution_count": 28,
     "metadata": {},
     "output_type": "execute_result"
    }
   ],
   "source": [
    "# R-1.1\n",
    "def is_multiple(n, m):\n",
    "    return n % m == 0\n",
    "\n",
    "is_multiple(12,3)"
   ]
  },
  {
   "cell_type": "code",
   "execution_count": 29,
   "id": "apart-anaheim",
   "metadata": {},
   "outputs": [
    {
     "data": {
      "text/plain": [
       "True"
      ]
     },
     "execution_count": 29,
     "metadata": {},
     "output_type": "execute_result"
    }
   ],
   "source": [
    "# R-1.2\n",
    "def is_even(k):\n",
    "    return k % 2 == 0\n",
    "\n",
    "is_even(2)"
   ]
  },
  {
   "cell_type": "code",
   "execution_count": 30,
   "id": "attractive-enlargement",
   "metadata": {
    "scrolled": true
   },
   "outputs": [
    {
     "data": {
      "text/plain": [
       "(1, 233)"
      ]
     },
     "execution_count": 30,
     "metadata": {},
     "output_type": "execute_result"
    }
   ],
   "source": [
    "# R-1.3\n",
    "def minmax(data):\n",
    "    min = data[0]\n",
    "    max = data[0]\n",
    "    \n",
    "    for i in data:\n",
    "        if i < min:\n",
    "            min = i\n",
    "        if i > max: \n",
    "            max = i\n",
    "    \n",
    "    return min, max\n",
    "\n",
    "minmax([1,3,4,5,6,2,233,3,7])"
   ]
  },
  {
   "cell_type": "code",
   "execution_count": 31,
   "id": "unknown-marketing",
   "metadata": {},
   "outputs": [
    {
     "data": {
      "text/plain": [
       "30"
      ]
     },
     "execution_count": 31,
     "metadata": {},
     "output_type": "execute_result"
    }
   ],
   "source": [
    "# R-1.4\n",
    "def sum_of_squares(n):\n",
    "    sum = 0\n",
    "    \n",
    "    for i in range(n,0, -1):\n",
    "        sum += i * i\n",
    "        \n",
    "    return sum\n",
    "\n",
    "sum_of_squares(4)\n",
    "        "
   ]
  },
  {
   "cell_type": "code",
   "execution_count": 34,
   "id": "hairy-relations",
   "metadata": {},
   "outputs": [
    {
     "data": {
      "text/plain": [
       "30"
      ]
     },
     "execution_count": 34,
     "metadata": {},
     "output_type": "execute_result"
    }
   ],
   "source": [
    "# R-1.5\n",
    "sum(i * i for i in range(4, 0, -1))"
   ]
  },
  {
   "cell_type": "code",
   "execution_count": 51,
   "id": "minute-sheffield",
   "metadata": {},
   "outputs": [
    {
     "data": {
      "text/plain": [
       "10"
      ]
     },
     "execution_count": 51,
     "metadata": {},
     "output_type": "execute_result"
    }
   ],
   "source": [
    "# R-1.6\n",
    "def sum_of_squares_odd(n):\n",
    "    sum = 0\n",
    "    \n",
    "    for i in range(n-1,0, -1):\n",
    "        if i % 2 != 0:\n",
    "            sum += i * i\n",
    "    \n",
    "    return sum\n",
    "\n",
    "sum_of_squares_odd(4)"
   ]
  },
  {
   "cell_type": "code",
   "execution_count": 52,
   "id": "absent-rehabilitation",
   "metadata": {},
   "outputs": [
    {
     "data": {
      "text/plain": [
       "10"
      ]
     },
     "execution_count": 52,
     "metadata": {},
     "output_type": "execute_result"
    }
   ],
   "source": [
    "# R-1.7\n",
    "sum(i * i for i in range(4-1, 0, -1) if i % 2 != 0)"
   ]
  },
  {
   "cell_type": "code",
   "execution_count": 61,
   "id": "positive-election",
   "metadata": {},
   "outputs": [
    {
     "name": "stdout",
     "output_type": "stream",
     "text": [
      "k\n",
      "k\n"
     ]
    }
   ],
   "source": [
    "# R-1.8\n",
    "s = \"jakob\"\n",
    "s_length = len(s)\n",
    "\n",
    "print(s[-3])\n",
    "print(s[s_length - 3])"
   ]
  },
  {
   "cell_type": "code",
   "execution_count": 67,
   "id": "insured-cattle",
   "metadata": {},
   "outputs": [
    {
     "name": "stdout",
     "output_type": "stream",
     "text": [
      "50\n",
      "60\n",
      "70\n",
      "80\n"
     ]
    }
   ],
   "source": [
    "# R-1.9\n",
    "for i in range(50, 90, 10):\n",
    "    print(i)"
   ]
  },
  {
   "cell_type": "code",
   "execution_count": 71,
   "id": "nearby-customs",
   "metadata": {},
   "outputs": [
    {
     "name": "stdout",
     "output_type": "stream",
     "text": [
      "8\n",
      "6\n",
      "4\n",
      "2\n",
      "0\n",
      "-2\n",
      "-4\n",
      "-6\n",
      "-8\n"
     ]
    }
   ],
   "source": [
    "# R-1.10\n",
    "for i in range(8, -10, -2):\n",
    "    print(i)"
   ]
  },
  {
   "cell_type": "code",
   "execution_count": 74,
   "id": "worldwide-folks",
   "metadata": {},
   "outputs": [
    {
     "name": "stdout",
     "output_type": "stream",
     "text": [
      "[1, 2, 4, 8, 16, 32, 64, 128, 256]\n"
     ]
    }
   ],
   "source": [
    "# R-1.11\n",
    "print([2**i for i in range(0, 9)])"
   ]
  },
  {
   "cell_type": "code",
   "execution_count": 103,
   "id": "adolescent-theater",
   "metadata": {},
   "outputs": [
    {
     "data": {
      "text/plain": [
       "3"
      ]
     },
     "execution_count": 103,
     "metadata": {},
     "output_type": "execute_result"
    }
   ],
   "source": [
    "# R-1.12\n",
    "import random\n",
    "\n",
    "def choice(data):\n",
    "    data_length = len(data)\n",
    "    return data[random.randrange(data_length)]\n",
    "        \n",
    "choice([0,2,3,4,5,6])"
   ]
  }
 ],
 "metadata": {
  "kernelspec": {
   "display_name": "Python 3",
   "language": "python",
   "name": "python3"
  },
  "language_info": {
   "codemirror_mode": {
    "name": "ipython",
    "version": 3
   },
   "file_extension": ".py",
   "mimetype": "text/x-python",
   "name": "python",
   "nbconvert_exporter": "python",
   "pygments_lexer": "ipython3",
   "version": "3.9.4"
  }
 },
 "nbformat": 4,
 "nbformat_minor": 5
}
