{
 "cells": [
  {
   "cell_type": "markdown",
   "id": "herbal-blend",
   "metadata": {},
   "source": [
    "# Data Structures and Algorithms in Python"
   ]
  },
  {
   "cell_type": "markdown",
   "id": "inappropriate-dialogue",
   "metadata": {},
   "source": [
    "## Python Primer"
   ]
  },
  {
   "cell_type": "code",
   "execution_count": 1,
   "id": "multiple-darkness",
   "metadata": {},
   "outputs": [
    {
     "data": {
      "text/plain": [
       "True"
      ]
     },
     "execution_count": 1,
     "metadata": {},
     "output_type": "execute_result"
    }
   ],
   "source": [
    "# R-1.1\n",
    "def is_multiple(n, m):\n",
    "    return n % m == 0\n",
    "\n",
    "is_multiple(12,3)"
   ]
  },
  {
   "cell_type": "code",
   "execution_count": 2,
   "id": "apart-anaheim",
   "metadata": {},
   "outputs": [
    {
     "data": {
      "text/plain": [
       "True"
      ]
     },
     "execution_count": 2,
     "metadata": {},
     "output_type": "execute_result"
    }
   ],
   "source": [
    "# R-1.2\n",
    "def is_even(k):\n",
    "    return k % 2 == 0\n",
    "\n",
    "is_even(2)"
   ]
  },
  {
   "cell_type": "code",
   "execution_count": 3,
   "id": "attractive-enlargement",
   "metadata": {
    "scrolled": true
   },
   "outputs": [
    {
     "data": {
      "text/plain": [
       "(1, 233)"
      ]
     },
     "execution_count": 3,
     "metadata": {},
     "output_type": "execute_result"
    }
   ],
   "source": [
    "# R-1.3\n",
    "def minmax(data):\n",
    "    min = data[0]\n",
    "    max = data[0]\n",
    "    \n",
    "    for i in data:\n",
    "        if i < min:\n",
    "            min = i\n",
    "        if i > max: \n",
    "            max = i\n",
    "    \n",
    "    return min, max\n",
    "\n",
    "minmax([1,3,4,5,6,2,233,3,7])"
   ]
  },
  {
   "cell_type": "code",
   "execution_count": 4,
   "id": "unknown-marketing",
   "metadata": {},
   "outputs": [
    {
     "data": {
      "text/plain": [
       "30"
      ]
     },
     "execution_count": 4,
     "metadata": {},
     "output_type": "execute_result"
    }
   ],
   "source": [
    "# R-1.4\n",
    "def sum_of_squares(n):\n",
    "    sum = 0\n",
    "    \n",
    "    for i in range(n,0, -1):\n",
    "        sum += i * i\n",
    "        \n",
    "    return sum\n",
    "\n",
    "sum_of_squares(4)\n",
    "        "
   ]
  },
  {
   "cell_type": "code",
   "execution_count": 5,
   "id": "hairy-relations",
   "metadata": {},
   "outputs": [
    {
     "data": {
      "text/plain": [
       "30"
      ]
     },
     "execution_count": 5,
     "metadata": {},
     "output_type": "execute_result"
    }
   ],
   "source": [
    "# R-1.5\n",
    "sum(i * i for i in range(4, 0, -1))"
   ]
  },
  {
   "cell_type": "code",
   "execution_count": 6,
   "id": "minute-sheffield",
   "metadata": {},
   "outputs": [
    {
     "data": {
      "text/plain": [
       "10"
      ]
     },
     "execution_count": 6,
     "metadata": {},
     "output_type": "execute_result"
    }
   ],
   "source": [
    "# R-1.6\n",
    "def sum_of_squares_odd(n):\n",
    "    sum = 0\n",
    "    \n",
    "    for i in range(n-1,0, -1):\n",
    "        if i % 2 != 0:\n",
    "            sum += i * i\n",
    "    \n",
    "    return sum\n",
    "\n",
    "sum_of_squares_odd(4)"
   ]
  },
  {
   "cell_type": "code",
   "execution_count": 7,
   "id": "absent-rehabilitation",
   "metadata": {},
   "outputs": [
    {
     "data": {
      "text/plain": [
       "10"
      ]
     },
     "execution_count": 7,
     "metadata": {},
     "output_type": "execute_result"
    }
   ],
   "source": [
    "# R-1.7\n",
    "sum(i * i for i in range(4-1, 0, -1) if i % 2 != 0)"
   ]
  },
  {
   "cell_type": "code",
   "execution_count": 8,
   "id": "positive-election",
   "metadata": {},
   "outputs": [
    {
     "name": "stdout",
     "output_type": "stream",
     "text": [
      "k\n",
      "k\n"
     ]
    }
   ],
   "source": [
    "# R-1.8\n",
    "s = \"jakob\"\n",
    "s_length = len(s)\n",
    "\n",
    "print(s[-3])\n",
    "print(s[s_length - 3])"
   ]
  },
  {
   "cell_type": "code",
   "execution_count": 9,
   "id": "insured-cattle",
   "metadata": {},
   "outputs": [
    {
     "name": "stdout",
     "output_type": "stream",
     "text": [
      "50\n",
      "60\n",
      "70\n",
      "80\n"
     ]
    }
   ],
   "source": [
    "# R-1.9\n",
    "for i in range(50, 90, 10):\n",
    "    print(i)"
   ]
  },
  {
   "cell_type": "code",
   "execution_count": 10,
   "id": "nearby-customs",
   "metadata": {},
   "outputs": [
    {
     "name": "stdout",
     "output_type": "stream",
     "text": [
      "8\n",
      "6\n",
      "4\n",
      "2\n",
      "0\n",
      "-2\n",
      "-4\n",
      "-6\n",
      "-8\n"
     ]
    }
   ],
   "source": [
    "# R-1.10\n",
    "for i in range(8, -10, -2):\n",
    "    print(i)"
   ]
  },
  {
   "cell_type": "code",
   "execution_count": 11,
   "id": "worldwide-folks",
   "metadata": {},
   "outputs": [
    {
     "name": "stdout",
     "output_type": "stream",
     "text": [
      "[1, 2, 4, 8, 16, 32, 64, 128, 256]\n"
     ]
    }
   ],
   "source": [
    "# R-1.11\n",
    "print([2**i for i in range(0, 9)])"
   ]
  },
  {
   "cell_type": "code",
   "execution_count": 12,
   "id": "adolescent-theater",
   "metadata": {},
   "outputs": [
    {
     "data": {
      "text/plain": [
       "6"
      ]
     },
     "execution_count": 12,
     "metadata": {},
     "output_type": "execute_result"
    }
   ],
   "source": [
    "# R-1.12\n",
    "import random\n",
    "\n",
    "def choice(data):\n",
    "    data_length = len(data)\n",
    "    return data[random.randrange(data_length)]\n",
    "        \n",
    "choice([0,2,3,4,5,6])"
   ]
  },
  {
   "cell_type": "code",
   "execution_count": 15,
   "id": "romantic-facing",
   "metadata": {},
   "outputs": [
    {
     "name": "stdout",
     "output_type": "stream",
     "text": [
      "[5, 4, 3, 2, 1]\n",
      "[5, 4, 3, 2, 1]\n"
     ]
    }
   ],
   "source": [
    "# C-1.13\n",
    "data = [1,2,3,4,5]\n",
    "print(data[::-1])\n",
    "print(list(reversed(data)))"
   ]
  },
  {
   "cell_type": "code",
   "execution_count": 25,
   "id": "brief-constitutional",
   "metadata": {},
   "outputs": [
    {
     "data": {
      "text/plain": [
       "True"
      ]
     },
     "execution_count": 25,
     "metadata": {},
     "output_type": "execute_result"
    }
   ],
   "source": [
    "# C-1.14\n",
    "def distinct_product(data):\n",
    "    nums = set(data)\n",
    "    \n",
    "    for i in nums:\n",
    "        for j in nums:\n",
    "            if i * j % 2 != 0 and i != j:\n",
    "                return True\n",
    "    \n",
    "    return False\n",
    "\n",
    "distinct_product([1, 4, 5])"
   ]
  },
  {
   "cell_type": "code",
   "execution_count": 31,
   "id": "grave-feedback",
   "metadata": {},
   "outputs": [
    {
     "data": {
      "text/plain": [
       "True"
      ]
     },
     "execution_count": 31,
     "metadata": {},
     "output_type": "execute_result"
    }
   ],
   "source": [
    "# C-1.15\n",
    "def is_distinct(data):\n",
    "    nums = set(data)\n",
    "    \n",
    "    if len(nums) != len(data):\n",
    "        return False\n",
    "    return True\n",
    "\n",
    "is_distinct([1,2])"
   ]
  },
  {
   "cell_type": "code",
   "execution_count": 39,
   "id": "secondary-cattle",
   "metadata": {},
   "outputs": [
    {
     "name": "stdout",
     "output_type": "stream",
     "text": [
      "[2, 4]\n"
     ]
    }
   ],
   "source": [
    "# C-1.16\n",
    "def scale(data, factor):\n",
    "    for i in range(len(data)):\n",
    "        data[i] *= factor\n",
    "        \n",
    "data = [1,2]\n",
    "scale(data, 2)\n",
    "print(data)\n",
    "\n",
    "# This works because we refer to elements in the list"
   ]
  },
  {
   "cell_type": "code",
   "execution_count": 41,
   "id": "suburban-adjustment",
   "metadata": {},
   "outputs": [
    {
     "name": "stdout",
     "output_type": "stream",
     "text": [
      "[1, 2]\n"
     ]
    }
   ],
   "source": [
    "# C-1.17\n",
    "def scale(data, factor):\n",
    "    for val in data:\n",
    "        val *= factor\n",
    "\n",
    "data = [1,2]\n",
    "scale(data, 2)\n",
    "print(data)\n",
    "\n",
    "# This does not work because we are just taking the values of the elements of the list,\n",
    "# but aren't referencing them directly"
   ]
  },
  {
   "cell_type": "code",
   "execution_count": 70,
   "id": "collective-strengthening",
   "metadata": {},
   "outputs": [
    {
     "data": {
      "text/plain": [
       "[0, 2, 6, 12, 20, 30, 42, 56, 72, 90]"
      ]
     },
     "execution_count": 70,
     "metadata": {},
     "output_type": "execute_result"
    }
   ],
   "source": [
    "# C-1.18\n",
    "# 0 2 6 12 20 30 ...\n",
    "[k*(k-1) for k in range(1, 11)]"
   ]
  },
  {
   "cell_type": "code",
   "execution_count": 75,
   "id": "correct-candle",
   "metadata": {},
   "outputs": [
    {
     "data": {
      "text/plain": [
       "['a',\n",
       " 'b',\n",
       " 'c',\n",
       " 'd',\n",
       " 'e',\n",
       " 'f',\n",
       " 'g',\n",
       " 'h',\n",
       " 'i',\n",
       " 'j',\n",
       " 'k',\n",
       " 'l',\n",
       " 'm',\n",
       " 'n',\n",
       " 'o',\n",
       " 'p',\n",
       " 'q',\n",
       " 'r',\n",
       " 's',\n",
       " 't',\n",
       " 'u',\n",
       " 'v',\n",
       " 'w',\n",
       " 'x',\n",
       " 'y',\n",
       " 'z']"
      ]
     },
     "execution_count": 75,
     "metadata": {},
     "output_type": "execute_result"
    }
   ],
   "source": [
    "# C-1.19\n",
    "[chr(k) for k in range(97, 123)]"
   ]
  },
  {
   "cell_type": "code",
   "execution_count": 294,
   "id": "demographic-rendering",
   "metadata": {},
   "outputs": [
    {
     "data": {
      "text/plain": [
       "[2, 1, 23, 5, 2, 3]"
      ]
     },
     "execution_count": 294,
     "metadata": {},
     "output_type": "execute_result"
    }
   ],
   "source": [
    "# C-1.20\n",
    "def shuffle(data):\n",
    "    used = []\n",
    "    count = 0\n",
    "    number_of_occurences_data = 0\n",
    "    number_of_occurences_used = 0\n",
    "    \n",
    "    while len(data) > len(used):\n",
    "        num = data[random.randint(0, len(data)-1)]\n",
    "        for i in data:\n",
    "            if i == num:\n",
    "                number_of_occurences_data += 1\n",
    "                \n",
    "        for i in used:\n",
    "            if i == num:\n",
    "                number_of_occurences_used += 1\n",
    "                \n",
    "        if num not in used or number_of_occurences_data > number_of_occurences_used:\n",
    "            used.append(num)\n",
    "            count += 1\n",
    "        number_of_occurences_data = 0\n",
    "        number_of_occurences_used = 0\n",
    "        \n",
    "    return used\n",
    "\n",
    "shuffle([1,2,5,23,3, 2])"
   ]
  },
  {
   "cell_type": "code",
   "execution_count": 300,
   "id": "designing-activation",
   "metadata": {},
   "outputs": [
    {
     "ename": "KeyboardInterrupt",
     "evalue": "Interrupted by user",
     "output_type": "error",
     "traceback": [
      "\u001b[0;31m---------------------------------------------------------------------------\u001b[0m",
      "\u001b[0;31mKeyboardInterrupt\u001b[0m                         Traceback (most recent call last)",
      "\u001b[0;32m<ipython-input-300-09c90eb03231>\u001b[0m in \u001b[0;36m<module>\u001b[0;34m\u001b[0m\n\u001b[1;32m      4\u001b[0m     \u001b[0;32mwhile\u001b[0m \u001b[0;32mTrue\u001b[0m\u001b[0;34m:\u001b[0m\u001b[0;34m\u001b[0m\u001b[0;34m\u001b[0m\u001b[0m\n\u001b[1;32m      5\u001b[0m \u001b[0;34m\u001b[0m\u001b[0m\n\u001b[0;32m----> 6\u001b[0;31m         \u001b[0minputArray\u001b[0m\u001b[0;34m.\u001b[0m\u001b[0mappend\u001b[0m\u001b[0;34m(\u001b[0m\u001b[0minput\u001b[0m\u001b[0;34m(\u001b[0m\u001b[0;34m\"Please enter something: \"\u001b[0m\u001b[0;34m)\u001b[0m\u001b[0;34m)\u001b[0m\u001b[0;34m\u001b[0m\u001b[0;34m\u001b[0m\u001b[0m\n\u001b[0m\u001b[1;32m      7\u001b[0m \u001b[0;32mexcept\u001b[0m \u001b[0mEOFError\u001b[0m\u001b[0;34m:\u001b[0m\u001b[0;34m\u001b[0m\u001b[0;34m\u001b[0m\u001b[0m\n\u001b[1;32m      8\u001b[0m     \u001b[0;32mfor\u001b[0m \u001b[0mi\u001b[0m \u001b[0;32min\u001b[0m \u001b[0mreversed\u001b[0m\u001b[0;34m(\u001b[0m\u001b[0minputArray\u001b[0m\u001b[0;34m)\u001b[0m\u001b[0;34m:\u001b[0m\u001b[0;34m\u001b[0m\u001b[0;34m\u001b[0m\u001b[0m\n",
      "\u001b[0;32m~/.local/lib/python3.9/site-packages/ipykernel/kernelbase.py\u001b[0m in \u001b[0;36mraw_input\u001b[0;34m(self, prompt)\u001b[0m\n\u001b[1;32m    846\u001b[0m                 \u001b[0;34m\"raw_input was called, but this frontend does not support input requests.\"\u001b[0m\u001b[0;34m\u001b[0m\u001b[0;34m\u001b[0m\u001b[0m\n\u001b[1;32m    847\u001b[0m             )\n\u001b[0;32m--> 848\u001b[0;31m         return self._input_request(str(prompt),\n\u001b[0m\u001b[1;32m    849\u001b[0m             \u001b[0mself\u001b[0m\u001b[0;34m.\u001b[0m\u001b[0m_parent_ident\u001b[0m\u001b[0;34m,\u001b[0m\u001b[0;34m\u001b[0m\u001b[0;34m\u001b[0m\u001b[0m\n\u001b[1;32m    850\u001b[0m             \u001b[0mself\u001b[0m\u001b[0;34m.\u001b[0m\u001b[0m_parent_header\u001b[0m\u001b[0;34m,\u001b[0m\u001b[0;34m\u001b[0m\u001b[0;34m\u001b[0m\u001b[0m\n",
      "\u001b[0;32m~/.local/lib/python3.9/site-packages/ipykernel/kernelbase.py\u001b[0m in \u001b[0;36m_input_request\u001b[0;34m(self, prompt, ident, parent, password)\u001b[0m\n\u001b[1;32m    890\u001b[0m             \u001b[0;32mexcept\u001b[0m \u001b[0mKeyboardInterrupt\u001b[0m\u001b[0;34m:\u001b[0m\u001b[0;34m\u001b[0m\u001b[0;34m\u001b[0m\u001b[0m\n\u001b[1;32m    891\u001b[0m                 \u001b[0;31m# re-raise KeyboardInterrupt, to truncate traceback\u001b[0m\u001b[0;34m\u001b[0m\u001b[0;34m\u001b[0m\u001b[0;34m\u001b[0m\u001b[0m\n\u001b[0;32m--> 892\u001b[0;31m                 \u001b[0;32mraise\u001b[0m \u001b[0mKeyboardInterrupt\u001b[0m\u001b[0;34m(\u001b[0m\u001b[0;34m\"Interrupted by user\"\u001b[0m\u001b[0;34m)\u001b[0m \u001b[0;32mfrom\u001b[0m \u001b[0;32mNone\u001b[0m\u001b[0;34m\u001b[0m\u001b[0;34m\u001b[0m\u001b[0m\n\u001b[0m\u001b[1;32m    893\u001b[0m             \u001b[0;32mexcept\u001b[0m \u001b[0mException\u001b[0m \u001b[0;32mas\u001b[0m \u001b[0me\u001b[0m\u001b[0;34m:\u001b[0m\u001b[0;34m\u001b[0m\u001b[0;34m\u001b[0m\u001b[0m\n\u001b[1;32m    894\u001b[0m                 \u001b[0mself\u001b[0m\u001b[0;34m.\u001b[0m\u001b[0mlog\u001b[0m\u001b[0;34m.\u001b[0m\u001b[0mwarning\u001b[0m\u001b[0;34m(\u001b[0m\u001b[0;34m\"Invalid Message:\"\u001b[0m\u001b[0;34m,\u001b[0m \u001b[0mexc_info\u001b[0m\u001b[0;34m=\u001b[0m\u001b[0;32mTrue\u001b[0m\u001b[0;34m)\u001b[0m\u001b[0;34m\u001b[0m\u001b[0;34m\u001b[0m\u001b[0m\n",
      "\u001b[0;31mKeyboardInterrupt\u001b[0m: Interrupted by user"
     ]
    },
    {
     "name": "stdout",
     "output_type": "stream",
     "text": [
      "Please enter something: asd\n"
     ]
    }
   ],
   "source": [
    "# C-1.21\n",
    "inputArray = []\n",
    "try:\n",
    "    while True:\n",
    "        \n",
    "        inputArray.append(input(\"Please enter something: \"))\n",
    "except EOFError:\n",
    "    for i in reversed(inputArray):\n",
    "        print(i)"
   ]
  },
  {
   "cell_type": "code",
   "execution_count": 3,
   "id": "endangered-employee",
   "metadata": {},
   "outputs": [
    {
     "data": {
      "text/plain": [
       "[6, 12]"
      ]
     },
     "execution_count": 3,
     "metadata": {},
     "output_type": "execute_result"
    }
   ],
   "source": [
    "# C-1.22\n",
    "def dot_product(a, b):\n",
    "    result = []\n",
    "    for i in range(len(a)):\n",
    "        result.append(a[i]*b[i])\n",
    "    return result\n",
    "dot_product([2,3], [3,4])"
   ]
  },
  {
   "cell_type": "code",
   "execution_count": 9,
   "id": "spanish-indonesian",
   "metadata": {},
   "outputs": [
    {
     "name": "stdout",
     "output_type": "stream",
     "text": [
      "Don't try to buffer overflow attacks in Python!\n",
      "[3, 2, 1]\n"
     ]
    }
   ],
   "source": [
    "# C-1.23\n",
    "def write_index(data, value, index):\n",
    "    if index > len(data):\n",
    "        print(\"Don't try to buffer overflow attacks in Python!\")\n",
    "        return\n",
    "    data[index] = value\n",
    "    \n",
    "data = [3,2,1]\n",
    "write_index(data, 5, 6)\n",
    "print(data)"
   ]
  },
  {
   "cell_type": "code",
   "execution_count": 14,
   "id": "returning-commodity",
   "metadata": {},
   "outputs": [
    {
     "data": {
      "text/plain": [
       "3"
      ]
     },
     "execution_count": 14,
     "metadata": {},
     "output_type": "execute_result"
    }
   ],
   "source": [
    "# C-1.24 \n",
    "def count_vowels(word):\n",
    "    count = 0\n",
    "    for i in word:\n",
    "        if i in \"aeiou\":\n",
    "            count += 1\n",
    "            \n",
    "    return count\n",
    "\n",
    "count_vowels(\"jakobus\")"
   ]
  },
  {
   "cell_type": "code",
   "execution_count": 23,
   "id": "normal-plate",
   "metadata": {},
   "outputs": [
    {
     "data": {
      "text/plain": [
       "'Lets try Mike'"
      ]
     },
     "execution_count": 23,
     "metadata": {},
     "output_type": "execute_result"
    }
   ],
   "source": [
    "# C-1.25\n",
    "def remove_punctuation(sentence):\n",
    "    result = \"\"\n",
    "    for i in sentence:\n",
    "        if i not in \".,;:'\":\n",
    "            result += i\n",
    "    return result\n",
    "\n",
    "remove_punctuation(\"Let's try, Mike.\")"
   ]
  },
  {
   "cell_type": "code",
   "execution_count": 27,
   "id": "sorted-freeze",
   "metadata": {},
   "outputs": [
    {
     "data": {
      "text/plain": [
       "False"
      ]
     },
     "execution_count": 27,
     "metadata": {},
     "output_type": "execute_result"
    }
   ],
   "source": [
    "# C-1.26\n",
    "def can_be_used(a, b, c):\n",
    "    if a * b == c: \n",
    "        return True\n",
    "    if a - b == c:\n",
    "        return True\n",
    "    if a + b == c:\n",
    "        return True\n",
    "    return False\n",
    "\n",
    "can_be_used(1,2,4)"
   ]
  },
  {
   "cell_type": "code",
   "execution_count": 6,
   "id": "polished-threshold",
   "metadata": {},
   "outputs": [
    {
     "name": "stdout",
     "output_type": "stream",
     "text": [
      "1\n",
      "6\n",
      "2\n",
      "3\n"
     ]
    }
   ],
   "source": [
    "# C-1.27 # TODO\n",
    "from math import sqrt \n",
    "\n",
    "def factors(n):\n",
    "    k=1\n",
    "    while k * k <= n:\n",
    "        \n",
    "        if n % k == 0:\n",
    "            yield k\n",
    "            if sqrt(n) % 1 == 0:\n",
    "                yield int(sqrt(n))\n",
    "            yield n // k\n",
    "        k += 1\n",
    "        if k * k == n:\n",
    "            break\n",
    "    \n",
    "    \n",
    "for i in factors(6):\n",
    "    print(i)"
   ]
  },
  {
   "cell_type": "code",
   "execution_count": 14,
   "id": "noted-legislature",
   "metadata": {},
   "outputs": [
    {
     "data": {
      "text/plain": [
       "1.189207115002721"
      ]
     },
     "execution_count": 14,
     "metadata": {},
     "output_type": "execute_result"
    }
   ],
   "source": [
    "# C-1.28\n",
    "def norm(v, p=2):\n",
    "    sum = 0\n",
    "    for num in v: \n",
    "        sum += num**2\n",
    "        \n",
    "    return sum**(1/p)\n",
    "\n",
    "norm([1,1], 4)"
   ]
  },
  {
   "cell_type": "code",
   "execution_count": 24,
   "id": "hydraulic-houston",
   "metadata": {},
   "outputs": [
    {
     "name": "stdout",
     "output_type": "stream",
     "text": [
      "catdog\n",
      "catdgo\n",
      "catodg\n",
      "catogd\n",
      "catgod\n",
      "catgdo\n",
      "cadtog\n",
      "cadtgo\n",
      "cadotg\n",
      "cadogt\n",
      "cadgot\n",
      "cadgto\n",
      "caodtg\n",
      "caodgt\n",
      "caotdg\n",
      "caotgd\n",
      "caogtd\n",
      "caogdt\n",
      "cagdot\n",
      "cagdto\n",
      "cagodt\n",
      "cagotd\n",
      "cagtod\n",
      "cagtdo\n",
      "ctadog\n",
      "ctadgo\n",
      "ctaodg\n",
      "ctaogd\n",
      "ctagod\n",
      "ctagdo\n",
      "ctdaog\n",
      "ctdago\n",
      "ctdoag\n",
      "ctdoga\n",
      "ctdgoa\n",
      "ctdgao\n",
      "ctodag\n",
      "ctodga\n",
      "ctoadg\n",
      "ctoagd\n",
      "ctogad\n",
      "ctogda\n",
      "ctgdoa\n",
      "ctgdao\n",
      "ctgoda\n",
      "ctgoad\n",
      "ctgaod\n",
      "ctgado\n",
      "cdtaog\n",
      "cdtago\n",
      "cdtoag\n",
      "cdtoga\n",
      "cdtgoa\n",
      "cdtgao\n",
      "cdatog\n",
      "cdatgo\n",
      "cdaotg\n",
      "cdaogt\n",
      "cdagot\n",
      "cdagto\n",
      "cdoatg\n",
      "cdoagt\n",
      "cdotag\n",
      "cdotga\n",
      "cdogta\n",
      "cdogat\n",
      "cdgaot\n",
      "cdgato\n",
      "cdgoat\n",
      "cdgota\n",
      "cdgtoa\n",
      "cdgtao\n",
      "cotdag\n",
      "cotdga\n",
      "cotadg\n",
      "cotagd\n",
      "cotgad\n",
      "cotgda\n",
      "codtag\n",
      "codtga\n",
      "codatg\n",
      "codagt\n",
      "codgat\n",
      "codgta\n",
      "coadtg\n",
      "coadgt\n",
      "coatdg\n",
      "coatgd\n",
      "coagtd\n",
      "coagdt\n",
      "cogdat\n",
      "cogdta\n",
      "cogadt\n",
      "cogatd\n",
      "cogtad\n",
      "cogtda\n",
      "cgtdoa\n",
      "cgtdao\n",
      "cgtoda\n",
      "cgtoad\n",
      "cgtaod\n",
      "cgtado\n",
      "cgdtoa\n",
      "cgdtao\n",
      "cgdota\n",
      "cgdoat\n",
      "cgdaot\n",
      "cgdato\n",
      "cgodta\n",
      "cgodat\n",
      "cgotda\n",
      "cgotad\n",
      "cgoatd\n",
      "cgoadt\n",
      "cgadot\n",
      "cgadto\n",
      "cgaodt\n",
      "cgaotd\n",
      "cgatod\n",
      "cgatdo\n",
      "actdog\n",
      "actdgo\n",
      "actodg\n",
      "actogd\n",
      "actgod\n",
      "actgdo\n",
      "acdtog\n",
      "acdtgo\n",
      "acdotg\n",
      "acdogt\n",
      "acdgot\n",
      "acdgto\n",
      "acodtg\n",
      "acodgt\n",
      "acotdg\n",
      "acotgd\n",
      "acogtd\n",
      "acogdt\n",
      "acgdot\n",
      "acgdto\n",
      "acgodt\n",
      "acgotd\n",
      "acgtod\n",
      "acgtdo\n",
      "atcdog\n",
      "atcdgo\n",
      "atcodg\n",
      "atcogd\n",
      "atcgod\n",
      "atcgdo\n",
      "atdcog\n",
      "atdcgo\n",
      "atdocg\n",
      "atdogc\n",
      "atdgoc\n",
      "atdgco\n",
      "atodcg\n",
      "atodgc\n",
      "atocdg\n",
      "atocgd\n",
      "atogcd\n",
      "atogdc\n",
      "atgdoc\n",
      "atgdco\n",
      "atgodc\n",
      "atgocd\n",
      "atgcod\n",
      "atgcdo\n",
      "adtcog\n",
      "adtcgo\n",
      "adtocg\n",
      "adtogc\n",
      "adtgoc\n",
      "adtgco\n",
      "adctog\n",
      "adctgo\n",
      "adcotg\n",
      "adcogt\n",
      "adcgot\n",
      "adcgto\n",
      "adoctg\n",
      "adocgt\n",
      "adotcg\n",
      "adotgc\n",
      "adogtc\n",
      "adogct\n",
      "adgcot\n",
      "adgcto\n",
      "adgoct\n",
      "adgotc\n",
      "adgtoc\n",
      "adgtco\n",
      "aotdcg\n",
      "aotdgc\n",
      "aotcdg\n",
      "aotcgd\n",
      "aotgcd\n",
      "aotgdc\n",
      "aodtcg\n",
      "aodtgc\n",
      "aodctg\n",
      "aodcgt\n",
      "aodgct\n",
      "aodgtc\n",
      "aocdtg\n",
      "aocdgt\n",
      "aoctdg\n",
      "aoctgd\n",
      "aocgtd\n",
      "aocgdt\n",
      "aogdct\n",
      "aogdtc\n",
      "aogcdt\n",
      "aogctd\n",
      "aogtcd\n",
      "aogtdc\n",
      "agtdoc\n",
      "agtdco\n",
      "agtodc\n",
      "agtocd\n",
      "agtcod\n",
      "agtcdo\n",
      "agdtoc\n",
      "agdtco\n",
      "agdotc\n",
      "agdoct\n",
      "agdcot\n",
      "agdcto\n",
      "agodtc\n",
      "agodct\n",
      "agotdc\n",
      "agotcd\n",
      "agoctd\n",
      "agocdt\n",
      "agcdot\n",
      "agcdto\n",
      "agcodt\n",
      "agcotd\n",
      "agctod\n",
      "agctdo\n",
      "tacdog\n",
      "tacdgo\n",
      "tacodg\n",
      "tacogd\n",
      "tacgod\n",
      "tacgdo\n",
      "tadcog\n",
      "tadcgo\n",
      "tadocg\n",
      "tadogc\n",
      "tadgoc\n",
      "tadgco\n",
      "taodcg\n",
      "taodgc\n",
      "taocdg\n",
      "taocgd\n",
      "taogcd\n",
      "taogdc\n",
      "tagdoc\n",
      "tagdco\n",
      "tagodc\n",
      "tagocd\n",
      "tagcod\n",
      "tagcdo\n",
      "tcadog\n",
      "tcadgo\n",
      "tcaodg\n",
      "tcaogd\n",
      "tcagod\n",
      "tcagdo\n",
      "tcdaog\n",
      "tcdago\n",
      "tcdoag\n",
      "tcdoga\n",
      "tcdgoa\n",
      "tcdgao\n",
      "tcodag\n",
      "tcodga\n",
      "tcoadg\n",
      "tcoagd\n",
      "tcogad\n",
      "tcogda\n",
      "tcgdoa\n",
      "tcgdao\n",
      "tcgoda\n",
      "tcgoad\n",
      "tcgaod\n",
      "tcgado\n",
      "tdcaog\n",
      "tdcago\n",
      "tdcoag\n",
      "tdcoga\n",
      "tdcgoa\n",
      "tdcgao\n",
      "tdacog\n",
      "tdacgo\n",
      "tdaocg\n",
      "tdaogc\n",
      "tdagoc\n",
      "tdagco\n",
      "tdoacg\n",
      "tdoagc\n",
      "tdocag\n",
      "tdocga\n",
      "tdogca\n",
      "tdogac\n",
      "tdgaoc\n",
      "tdgaco\n",
      "tdgoac\n",
      "tdgoca\n",
      "tdgcoa\n",
      "tdgcao\n",
      "tocdag\n",
      "tocdga\n",
      "tocadg\n",
      "tocagd\n",
      "tocgad\n",
      "tocgda\n",
      "todcag\n",
      "todcga\n",
      "todacg\n",
      "todagc\n",
      "todgac\n",
      "todgca\n",
      "toadcg\n",
      "toadgc\n",
      "toacdg\n",
      "toacgd\n",
      "toagcd\n",
      "toagdc\n",
      "togdac\n",
      "togdca\n",
      "togadc\n",
      "togacd\n",
      "togcad\n",
      "togcda\n",
      "tgcdoa\n",
      "tgcdao\n",
      "tgcoda\n",
      "tgcoad\n",
      "tgcaod\n",
      "tgcado\n",
      "tgdcoa\n",
      "tgdcao\n",
      "tgdoca\n",
      "tgdoac\n",
      "tgdaoc\n",
      "tgdaco\n",
      "tgodca\n",
      "tgodac\n",
      "tgocda\n",
      "tgocad\n",
      "tgoacd\n",
      "tgoadc\n",
      "tgadoc\n",
      "tgadco\n",
      "tgaodc\n",
      "tgaocd\n",
      "tgacod\n",
      "tgacdo\n",
      "datcog\n",
      "datcgo\n",
      "datocg\n",
      "datogc\n",
      "datgoc\n",
      "datgco\n",
      "dactog\n",
      "dactgo\n",
      "dacotg\n",
      "dacogt\n",
      "dacgot\n",
      "dacgto\n",
      "daoctg\n",
      "daocgt\n",
      "daotcg\n",
      "daotgc\n",
      "daogtc\n",
      "daogct\n",
      "dagcot\n",
      "dagcto\n",
      "dagoct\n",
      "dagotc\n",
      "dagtoc\n",
      "dagtco\n",
      "dtacog\n",
      "dtacgo\n",
      "dtaocg\n",
      "dtaogc\n",
      "dtagoc\n",
      "dtagco\n",
      "dtcaog\n",
      "dtcago\n",
      "dtcoag\n",
      "dtcoga\n",
      "dtcgoa\n",
      "dtcgao\n",
      "dtocag\n",
      "dtocga\n",
      "dtoacg\n",
      "dtoagc\n",
      "dtogac\n",
      "dtogca\n",
      "dtgcoa\n",
      "dtgcao\n",
      "dtgoca\n",
      "dtgoac\n",
      "dtgaoc\n",
      "dtgaco\n",
      "dctaog\n",
      "dctago\n",
      "dctoag\n",
      "dctoga\n",
      "dctgoa\n",
      "dctgao\n",
      "dcatog\n",
      "dcatgo\n",
      "dcaotg\n",
      "dcaogt\n",
      "dcagot\n",
      "dcagto\n",
      "dcoatg\n",
      "dcoagt\n",
      "dcotag\n",
      "dcotga\n",
      "dcogta\n",
      "dcogat\n",
      "dcgaot\n",
      "dcgato\n",
      "dcgoat\n",
      "dcgota\n",
      "dcgtoa\n",
      "dcgtao\n",
      "dotcag\n",
      "dotcga\n",
      "dotacg\n",
      "dotagc\n",
      "dotgac\n",
      "dotgca\n",
      "doctag\n",
      "doctga\n",
      "docatg\n",
      "docagt\n",
      "docgat\n",
      "docgta\n",
      "doactg\n",
      "doacgt\n",
      "doatcg\n",
      "doatgc\n",
      "doagtc\n",
      "doagct\n",
      "dogcat\n",
      "dogcta\n",
      "dogact\n",
      "dogatc\n",
      "dogtac\n",
      "dogtca\n",
      "dgtcoa\n",
      "dgtcao\n",
      "dgtoca\n",
      "dgtoac\n",
      "dgtaoc\n",
      "dgtaco\n",
      "dgctoa\n",
      "dgctao\n",
      "dgcota\n",
      "dgcoat\n",
      "dgcaot\n",
      "dgcato\n",
      "dgocta\n",
      "dgocat\n",
      "dgotca\n",
      "dgotac\n",
      "dgoatc\n",
      "dgoact\n",
      "dgacot\n",
      "dgacto\n",
      "dgaoct\n",
      "dgaotc\n",
      "dgatoc\n",
      "dgatco\n",
      "oatdcg\n",
      "oatdgc\n",
      "oatcdg\n",
      "oatcgd\n",
      "oatgcd\n",
      "oatgdc\n",
      "oadtcg\n",
      "oadtgc\n",
      "oadctg\n",
      "oadcgt\n",
      "oadgct\n",
      "oadgtc\n",
      "oacdtg\n",
      "oacdgt\n",
      "oactdg\n",
      "oactgd\n",
      "oacgtd\n",
      "oacgdt\n",
      "oagdct\n",
      "oagdtc\n",
      "oagcdt\n",
      "oagctd\n",
      "oagtcd\n",
      "oagtdc\n",
      "otadcg\n",
      "otadgc\n",
      "otacdg\n",
      "otacgd\n",
      "otagcd\n",
      "otagdc\n",
      "otdacg\n",
      "otdagc\n",
      "otdcag\n",
      "otdcga\n",
      "otdgca\n",
      "otdgac\n",
      "otcdag\n",
      "otcdga\n",
      "otcadg\n",
      "otcagd\n",
      "otcgad\n",
      "otcgda\n",
      "otgdca\n",
      "otgdac\n",
      "otgcda\n",
      "otgcad\n",
      "otgacd\n",
      "otgadc\n",
      "odtacg\n",
      "odtagc\n",
      "odtcag\n",
      "odtcga\n",
      "odtgca\n",
      "odtgac\n",
      "odatcg\n",
      "odatgc\n",
      "odactg\n",
      "odacgt\n",
      "odagct\n",
      "odagtc\n",
      "odcatg\n",
      "odcagt\n",
      "odctag\n",
      "odctga\n",
      "odcgta\n",
      "odcgat\n",
      "odgact\n",
      "odgatc\n",
      "odgcat\n",
      "odgcta\n",
      "odgtca\n",
      "odgtac\n",
      "octdag\n",
      "octdga\n",
      "octadg\n",
      "octagd\n",
      "octgad\n",
      "octgda\n",
      "ocdtag\n",
      "ocdtga\n",
      "ocdatg\n",
      "ocdagt\n",
      "ocdgat\n",
      "ocdgta\n",
      "ocadtg\n",
      "ocadgt\n",
      "ocatdg\n",
      "ocatgd\n",
      "ocagtd\n",
      "ocagdt\n",
      "ocgdat\n",
      "ocgdta\n",
      "ocgadt\n",
      "ocgatd\n",
      "ocgtad\n",
      "ocgtda\n",
      "ogtdca\n",
      "ogtdac\n",
      "ogtcda\n",
      "ogtcad\n",
      "ogtacd\n",
      "ogtadc\n",
      "ogdtca\n",
      "ogdtac\n",
      "ogdcta\n",
      "ogdcat\n",
      "ogdact\n",
      "ogdatc\n",
      "ogcdta\n",
      "ogcdat\n",
      "ogctda\n",
      "ogctad\n",
      "ogcatd\n",
      "ogcadt\n",
      "ogadct\n",
      "ogadtc\n",
      "ogacdt\n",
      "ogactd\n",
      "ogatcd\n",
      "ogatdc\n",
      "gatdoc\n",
      "gatdco\n",
      "gatodc\n",
      "gatocd\n",
      "gatcod\n",
      "gatcdo\n",
      "gadtoc\n",
      "gadtco\n",
      "gadotc\n",
      "gadoct\n",
      "gadcot\n",
      "gadcto\n",
      "gaodtc\n",
      "gaodct\n",
      "gaotdc\n",
      "gaotcd\n",
      "gaoctd\n",
      "gaocdt\n",
      "gacdot\n",
      "gacdto\n",
      "gacodt\n",
      "gacotd\n",
      "gactod\n",
      "gactdo\n",
      "gtadoc\n",
      "gtadco\n",
      "gtaodc\n",
      "gtaocd\n",
      "gtacod\n",
      "gtacdo\n",
      "gtdaoc\n",
      "gtdaco\n",
      "gtdoac\n",
      "gtdoca\n",
      "gtdcoa\n",
      "gtdcao\n",
      "gtodac\n",
      "gtodca\n",
      "gtoadc\n",
      "gtoacd\n",
      "gtocad\n",
      "gtocda\n",
      "gtcdoa\n",
      "gtcdao\n",
      "gtcoda\n",
      "gtcoad\n",
      "gtcaod\n",
      "gtcado\n",
      "gdtaoc\n",
      "gdtaco\n",
      "gdtoac\n",
      "gdtoca\n",
      "gdtcoa\n",
      "gdtcao\n",
      "gdatoc\n",
      "gdatco\n",
      "gdaotc\n",
      "gdaoct\n",
      "gdacot\n",
      "gdacto\n",
      "gdoatc\n",
      "gdoact\n",
      "gdotac\n",
      "gdotca\n",
      "gdocta\n",
      "gdocat\n",
      "gdcaot\n",
      "gdcato\n",
      "gdcoat\n",
      "gdcota\n",
      "gdctoa\n",
      "gdctao\n",
      "gotdac\n",
      "gotdca\n",
      "gotadc\n",
      "gotacd\n",
      "gotcad\n",
      "gotcda\n",
      "godtac\n",
      "godtca\n",
      "godatc\n",
      "godact\n",
      "godcat\n",
      "godcta\n",
      "goadtc\n",
      "goadct\n",
      "goatdc\n",
      "goatcd\n",
      "goactd\n",
      "goacdt\n",
      "gocdat\n",
      "gocdta\n",
      "gocadt\n",
      "gocatd\n",
      "goctad\n",
      "goctda\n",
      "gctdoa\n",
      "gctdao\n",
      "gctoda\n",
      "gctoad\n",
      "gctaod\n",
      "gctado\n",
      "gcdtoa\n",
      "gcdtao\n",
      "gcdota\n",
      "gcdoat\n",
      "gcdaot\n",
      "gcdato\n",
      "gcodta\n",
      "gcodat\n",
      "gcotda\n",
      "gcotad\n",
      "gcoatd\n",
      "gcoadt\n",
      "gcadot\n",
      "gcadto\n",
      "gcaodt\n",
      "gcaotd\n",
      "gcatod\n",
      "gcatdo\n"
     ]
    }
   ],
   "source": [
    "# P-1.29\n",
    "def permute(data, i, length): \n",
    "    if i==length: \n",
    "        print(''.join(data) )\n",
    "    else: \n",
    "        for j in range(i,length): \n",
    "            #swap\n",
    "            data[i], data[j] = data[j], data[i] \n",
    "            permute(data, i+1, length) \n",
    "            data[i], data[j] = data[j], data[i]  \n",
    "  \n",
    "\n",
    "string = \"catdog\"\n",
    "n = len(string) \n",
    "data = list(string) \n",
    "permute(data, 0, n)\n",
    "    "
   ]
  },
  {
   "cell_type": "code",
   "execution_count": 42,
   "id": "therapeutic-magnitude",
   "metadata": {},
   "outputs": [
    {
     "name": "stdout",
     "output_type": "stream",
     "text": [
      "4\n"
     ]
    }
   ],
   "source": [
    "# P-1.30\n",
    "def by2(n, count=0):\n",
    "    if n < 2:\n",
    "        # Why can't I return count here?\n",
    "        print(count)\n",
    "    else: \n",
    "        by2(n//2, count+1)\n",
    "        \n",
    "by2(16)"
   ]
  },
  {
   "cell_type": "code",
   "execution_count": 1,
   "id": "second-stuart",
   "metadata": {},
   "outputs": [
    {
     "data": {
      "text/plain": [
       "(1.0, 0.0, 0.0, 0.0, 0.0, 1.0, 1.0, 2.0)"
      ]
     },
     "execution_count": 1,
     "metadata": {},
     "output_type": "execute_result"
    }
   ],
   "source": [
    "# P-1.31\n",
    "def change(betrag, gezahlt):\n",
    "    euro_1 = 0\n",
    "    euro_2 = 0 \n",
    "    cent_50 = 0\n",
    "    cent_20 = 0\n",
    "    cent_10 = 0\n",
    "    cent_5 = 0\n",
    "    cent_2 = 0\n",
    "    cent_1 = 0\n",
    "    \n",
    "    change = gezahlt - betrag\n",
    "    euro_2 = change // 2 \n",
    "    remaining = change % 2 \n",
    "    euro_1 = remaining // 1\n",
    "    remaining = change % 1\n",
    "    cent_50 = remaining // 0.5\n",
    "    remaining =  remaining % 0.5\n",
    "    cent_20 = remaining // 0.2\n",
    "    remaining = remaining % 0.2\n",
    "    cent_10 = remaining // 0.1\n",
    "    remaining = remaining % 0.1\n",
    "    cent_5 = remaining // 0.05\n",
    "    remaining = remaining % 0.05\n",
    "    cent_2 = remaining // 0.02\n",
    "    remaining = remaining % 0.02\n",
    "    cent_1 = round(remaining, 2) // 0.01\n",
    "    \n",
    "    return euro_2, euro_1, cent_50, cent_20, cent_10, cent_5, cent_2, cent_1\n",
    "\n",
    "change(2.20, 4.29)"
   ]
  },
  {
   "cell_type": "code",
   "execution_count": 109,
   "id": "frank-bottle",
   "metadata": {},
   "outputs": [
    {
     "name": "stdout",
     "output_type": "stream",
     "text": [
      "[(19, 2), (7, 8), (2, 3), (25, 10), (15, 3), (24, 4), (1, 8), (28, 5), (14, 3), (12, 2), (7, 2), (25, 9), (3, 7), (10, 3), (26, 4), (19, 8), (17, 8), (9, 1), (12, 4), (19, 10), (24, 3), (29, 10), (6, 2), (7, 2)]\n"
     ]
    },
    {
     "data": {
      "text/plain": [
       "True"
      ]
     },
     "execution_count": 109,
     "metadata": {},
     "output_type": "execute_result"
    }
   ],
   "source": [
    "# P-1.35\n",
    "import random \n",
    "\n",
    "def same_birthday(n):\n",
    "    birthdays = []\n",
    "    for i in range(n):\n",
    "        birthdays.append((random.randrange(1,31), random.randrange(1,12)))\n",
    "    print(birthdays)\n",
    "    \n",
    "    for i in range(len(birthdays)):\n",
    "        for j in range(len(birthdays)):\n",
    "            if i != j:\n",
    "                if birthdays[i][0] == birthdays[j][0] and birthdays[i][1] == birthdays[j][1]:\n",
    "                    return True\n",
    "    return False\n",
    "    \n",
    "same_birthday(24)"
   ]
  },
  {
   "cell_type": "code",
   "execution_count": 1,
   "id": "faced-knock",
   "metadata": {},
   "outputs": [
    {
     "name": "stdout",
     "output_type": "stream",
     "text": [
      "['Ich', 'bin', 'Jakob', 'und', 'ich', 'bin']\n",
      "{'Ich': 1, 'bin': 2, 'Jakob': 1, 'und': 1, 'ich': 1}\n"
     ]
    }
   ],
   "source": [
    "# P-1.36\n",
    "def count_words(words):\n",
    "    data = words.split(\" \")\n",
    "    print(data)\n",
    "    result = {}\n",
    "    for word in data:\n",
    "        if word in result:\n",
    "            result[word] += 1\n",
    "        if word not in result:\n",
    "            result[word] = 1\n",
    "            \n",
    "    print(result)\n",
    "\n",
    "words = \"Ich bin Jakob und ich bin\"\n",
    "count_words(words)"
   ]
  },
  {
   "cell_type": "markdown",
   "id": "higher-suite",
   "metadata": {},
   "source": [
    "## OOP"
   ]
  },
  {
   "cell_type": "code",
   "execution_count": 4,
   "id": "ordinary-douglas",
   "metadata": {},
   "outputs": [],
   "source": [
    "# R-2.1\n",
    "\n",
    "# Rocket software\n",
    "# Car software\n",
    "# Medical software"
   ]
  },
  {
   "cell_type": "code",
   "execution_count": 5,
   "id": "breeding-chancellor",
   "metadata": {},
   "outputs": [],
   "source": [
    "# R-2.2\n",
    "\n",
    "# Overflow on a bank account"
   ]
  },
  {
   "cell_type": "code",
   "execution_count": 6,
   "id": "significant-petite",
   "metadata": {},
   "outputs": [],
   "source": [
    "# R-2.3\n",
    "\n",
    "# Pen\n",
    "# change_color()\n",
    "# change_thickness()"
   ]
  },
  {
   "cell_type": "code",
   "execution_count": 15,
   "id": "sunrise-desktop",
   "metadata": {},
   "outputs": [
    {
     "name": "stdout",
     "output_type": "stream",
     "text": [
      "2\n"
     ]
    }
   ],
   "source": [
    "# R-2.4\n",
    "class Flower:\n",
    "    def __init__(self, name, number_of_petals, price):\n",
    "        self.name = name\n",
    "        self.number_of_petals = number_of_petals\n",
    "        self.price = price\n",
    "    \n",
    "    def set_name(self, name):\n",
    "        self.name = name\n",
    "    \n",
    "    def get_name(self):\n",
    "        return self.name\n",
    "    \n",
    "    def set_number_of_petals(self, number_of_petals):\n",
    "        self.number_of_petals = number_of_petals\n",
    "    \n",
    "    def get_number_of_petals(self):\n",
    "        return self.number_of_petals\n",
    "    \n",
    "    def set_price(self):\n",
    "        self.price = price\n",
    "        \n",
    "    def get_price(self):\n",
    "        return self.price\n",
    "    \n",
    "flower = Flower(\"rose\", 12, 2)\n",
    "print(flower.get_price())"
   ]
  },
  {
   "cell_type": "code",
   "execution_count": 1,
   "id": "further-adjustment",
   "metadata": {},
   "outputs": [
    {
     "data": {
      "text/plain": [
       "'<0, 3, 0>'"
      ]
     },
     "execution_count": 1,
     "metadata": {},
     "output_type": "execute_result"
    }
   ],
   "source": [
    "# R-2.9\n",
    "class Vector:\n",
    "    \n",
    "    def __init__(self, d):\n",
    "        # Create d-dimensional vectors of zeros\n",
    "        self._coords = [0] * d\n",
    "        \n",
    "    def __len__(self):\n",
    "        # Return the dimension of the vector\n",
    "        return len(self._coords)\n",
    "    \n",
    "    def __getitem__(self, j):\n",
    "        # Return the jth coordinate of the vector\n",
    "        return self._coords[j]\n",
    "    \n",
    "    def __setitem__(self, j, val):\n",
    "        # Set jth coordinate of vector to given value\n",
    "        self._coords[j] = val\n",
    "        \n",
    "    def __add__(self, other): \n",
    "        # Retun sum of two vectors\n",
    "        if len(self) != len(other):\n",
    "            raise ValueError('dimensions must match')\n",
    "        result = Vector(len(self))\n",
    "        for j in range(len(self)):\n",
    "            result[j] = self[j] + other[j]\n",
    "        return result \n",
    "    \n",
    "    def __sub__(self, other):\n",
    "        # Return difference of two vectors\n",
    "        if len(self) != len(other):\n",
    "            raise ValueError('dimensions must watch')\n",
    "        result = Vector(len(self))\n",
    "        for j in range(len(self)):\n",
    "            result[j] = self[j] - other[j]\n",
    "        return result\n",
    "    \n",
    "    def __eq__(self, other): \n",
    "        # Return true if vector has same coordinates as other\n",
    "        return self._coords == other._coords\n",
    "    \n",
    "    def __ne__(self, other):\n",
    "        # Return true if vector differs from other\n",
    "        return not self == other\n",
    "    \n",
    "    def __str__(self):\n",
    "        # Produce string representation of vector \n",
    "        return '<' + str(self._coords)[1:-1] + '>'\n",
    "    \n",
    "v = Vector(3)\n",
    "v[1] = 3\n",
    "str(v)\n",
    "\n",
    "v = "
   ]
  },
  {
   "cell_type": "code",
   "execution_count": null,
   "id": "twelve-motorcycle",
   "metadata": {},
   "outputs": [],
   "source": []
  }
 ],
 "metadata": {
  "kernelspec": {
   "display_name": "Python 3",
   "language": "python",
   "name": "python3"
  },
  "language_info": {
   "codemirror_mode": {
    "name": "ipython",
    "version": 3
   },
   "file_extension": ".py",
   "mimetype": "text/x-python",
   "name": "python",
   "nbconvert_exporter": "python",
   "pygments_lexer": "ipython3",
   "version": "3.9.4"
  }
 },
 "nbformat": 4,
 "nbformat_minor": 5
}
