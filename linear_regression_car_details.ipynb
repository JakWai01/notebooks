{
 "cells": [
  {
   "cell_type": "markdown",
   "id": "instant-married",
   "metadata": {},
   "source": [
    "# Car details"
   ]
  },
  {
   "cell_type": "markdown",
   "id": "laughing-accent",
   "metadata": {},
   "source": [
    "## Data"
   ]
  },
  {
   "cell_type": "code",
   "execution_count": 363,
   "id": "enormous-evans",
   "metadata": {},
   "outputs": [],
   "source": [
    "import numpy as np \n",
    "import pandas as pd\n",
    "import os"
   ]
  },
  {
   "cell_type": "code",
   "execution_count": 364,
   "id": "alpine-herald",
   "metadata": {},
   "outputs": [],
   "source": [
    "# Import data\n",
    "column_names = ['NAME', 'YEAR', 'SELLING_PRICE', 'KM_DRIVEN', 'FUEL', 'SELLER_TYPE', 'TRANSMISSION', 'OWNER', 'MILAGE', 'ENGINE','MAX_POWER', 'TORQUE', 'SEATS']\n",
    "data = pd.read_csv('data/car_details.csv', header=None, delimiter=r\",\", names=column_names)"
   ]
  },
  {
   "cell_type": "code",
   "execution_count": 365,
   "id": "junior-implement",
   "metadata": {},
   "outputs": [
    {
     "name": "stdout",
     "output_type": "stream",
     "text": [
      "                           NAME  YEAR  SELLING_PRICE  KM_DRIVEN    FUEL  \\\n",
      "0        Maruti Swift Dzire VDI  2014         450000     145500  Diesel   \n",
      "1  Skoda Rapid 1.5 TDI Ambition  2014         370000     120000  Diesel   \n",
      "2      Honda City 2017-2020 EXi  2006         158000     140000  Petrol   \n",
      "3     Hyundai i20 Sportz Diesel  2010         225000     127000  Diesel   \n",
      "4        Maruti Swift VXI BSIII  2007         130000     120000  Petrol   \n",
      "\n",
      "  SELLER_TYPE TRANSMISSION         OWNER      MILAGE   ENGINE   MAX_POWER  \\\n",
      "0  Individual       Manual   First Owner   23.4 kmpl  1248 CC      74 bhp   \n",
      "1  Individual       Manual  Second Owner  21.14 kmpl  1498 CC  103.52 bhp   \n",
      "2  Individual       Manual   Third Owner   17.7 kmpl  1497 CC      78 bhp   \n",
      "3  Individual       Manual   First Owner   23.0 kmpl  1396 CC      90 bhp   \n",
      "4  Individual       Manual   First Owner   16.1 kmpl  1298 CC    88.2 bhp   \n",
      "\n",
      "                     TORQUE  SEATS  \n",
      "0            190Nm@ 2000rpm    5.0  \n",
      "1       250Nm@ 1500-2500rpm    5.0  \n",
      "2     12.7@ 2,700(kgm@ rpm)    5.0  \n",
      "3  22.4 kgm at 1750-2750rpm    5.0  \n",
      "4     11.5@ 4,500(kgm@ rpm)    5.0  \n"
     ]
    }
   ],
   "source": [
    "print(data.head(5))"
   ]
  },
  {
   "cell_type": "code",
   "execution_count": 366,
   "id": "included-shift",
   "metadata": {},
   "outputs": [
    {
     "name": "stdout",
     "output_type": "stream",
     "text": [
      "(8128, 13)\n"
     ]
    }
   ],
   "source": [
    "# Dimensions of the dataset\n",
    "print(np.shape(data))"
   ]
  },
  {
   "cell_type": "code",
   "execution_count": 367,
   "id": "hazardous-converter",
   "metadata": {},
   "outputs": [
    {
     "name": "stdout",
     "output_type": "stream",
     "text": [
      "              YEAR  SELLING_PRICE     KM_DRIVEN        SEATS\n",
      "count  8128.000000   8.128000e+03  8.128000e+03  7907.000000\n",
      "mean   2013.804011   6.382718e+05  6.981951e+04     5.416719\n",
      "std       4.044249   8.062534e+05  5.655055e+04     0.959588\n",
      "min    1983.000000   2.999900e+04  1.000000e+00     2.000000\n",
      "25%    2011.000000   2.549990e+05  3.500000e+04     5.000000\n",
      "50%    2015.000000   4.500000e+05  6.000000e+04     5.000000\n",
      "75%    2017.000000   6.750000e+05  9.800000e+04     5.000000\n",
      "max    2020.000000   1.000000e+07  2.360457e+06    14.000000\n"
     ]
    }
   ],
   "source": [
    "# Descibe describable columns\n",
    "print(data.describe())"
   ]
  },
  {
   "cell_type": "code",
   "execution_count": 368,
   "id": "missing-douglas",
   "metadata": {},
   "outputs": [
    {
     "data": {
      "image/png": "[encoded data removed]",
      "text/plain": [
       "<Figure size 432x288 with 4 Axes>"
      ]
     },
     "metadata": {
      "needs_background": "light"
     },
     "output_type": "display_data"
    }
   ],
   "source": [
    "# Display valid columns\n",
    "import matplotlib\n",
    "import matplotlib.pyplot as plt\n",
    "import seaborn as sns\n",
    "\n",
    "column_names = ['YEAR', 'SELLING_PRICE', 'KM_DRIVEN', 'SEATS']\n",
    "data = data[column_names]\n",
    "fig, axs = plt.subplots(1, 4)\n",
    "index = 0\n",
    "axs = axs.flatten()\n",
    "for k,v in data.items():\n",
    "    sns.histplot(v, ax=axs[index])\n",
    "    index += 1\n",
    "matplotlib.pyplot.subplots_adjust(left=None, bottom=None, right=2.8, top=None, wspace=None, hspace=None)"
   ]
  },
  {
   "cell_type": "markdown",
   "id": "ordinary-dublin",
   "metadata": {},
   "source": [
    "## Linear Regression"
   ]
  },
  {
   "cell_type": "code",
   "execution_count": 369,
   "id": "stupid-bailey",
   "metadata": {},
   "outputs": [],
   "source": [
    "import numpy as np\n",
    "import torch\n",
    "import pandas as pd"
   ]
  },
  {
   "cell_type": "code",
   "execution_count": 370,
   "id": "unexpected-kazakhstan",
   "metadata": {},
   "outputs": [
    {
     "data": {
      "text/html": [
       "<div>\n",
       "<style scoped>\n",
       "    .dataframe tbody tr th:only-of-type {\n",
       "        vertical-align: middle;\n",
       "    }\n",
       "\n",
       "    .dataframe tbody tr th {\n",
       "        vertical-align: top;\n",
       "    }\n",
       "\n",
       "    .dataframe thead th {\n",
       "        text-align: right;\n",
       "    }\n",
       "</style>\n",
       "<table border=\"1\" class=\"dataframe\">\n",
       "  <thead>\n",
       "    <tr style=\"text-align: right;\">\n",
       "      <th></th>\n",
       "      <th>YEAR</th>\n",
       "      <th>SELLING_PRICE</th>\n",
       "      <th>KM_DRIVEN</th>\n",
       "      <th>SEATS</th>\n",
       "    </tr>\n",
       "  </thead>\n",
       "  <tbody>\n",
       "    <tr>\n",
       "      <th>0</th>\n",
       "      <td>2014</td>\n",
       "      <td>450000</td>\n",
       "      <td>145500</td>\n",
       "      <td>5.0</td>\n",
       "    </tr>\n",
       "    <tr>\n",
       "      <th>1</th>\n",
       "      <td>2014</td>\n",
       "      <td>370000</td>\n",
       "      <td>120000</td>\n",
       "      <td>5.0</td>\n",
       "    </tr>\n",
       "    <tr>\n",
       "      <th>2</th>\n",
       "      <td>2006</td>\n",
       "      <td>158000</td>\n",
       "      <td>140000</td>\n",
       "      <td>5.0</td>\n",
       "    </tr>\n",
       "    <tr>\n",
       "      <th>3</th>\n",
       "      <td>2010</td>\n",
       "      <td>225000</td>\n",
       "      <td>127000</td>\n",
       "      <td>5.0</td>\n",
       "    </tr>\n",
       "    <tr>\n",
       "      <th>4</th>\n",
       "      <td>2007</td>\n",
       "      <td>130000</td>\n",
       "      <td>120000</td>\n",
       "      <td>5.0</td>\n",
       "    </tr>\n",
       "  </tbody>\n",
       "</table>\n",
       "</div>"
      ],
      "text/plain": [
       "   YEAR  SELLING_PRICE  KM_DRIVEN  SEATS\n",
       "0  2014         450000     145500    5.0\n",
       "1  2014         370000     120000    5.0\n",
       "2  2006         158000     140000    5.0\n",
       "3  2010         225000     127000    5.0\n",
       "4  2007         130000     120000    5.0"
      ]
     },
     "execution_count": 370,
     "metadata": {},
     "output_type": "execute_result"
    }
   ],
   "source": [
    "df = pd.DataFrame(data)\n",
    "df.columns = column_names\n",
    "# print(df.iloc[:,-4:])\n",
    "df.head()"
   ]
  },
  {
   "cell_type": "code",
   "execution_count": 371,
   "id": "federal-proportion",
   "metadata": {},
   "outputs": [
    {
     "data": {
      "text/html": [
       "<div>\n",
       "<style scoped>\n",
       "    .dataframe tbody tr th:only-of-type {\n",
       "        vertical-align: middle;\n",
       "    }\n",
       "\n",
       "    .dataframe tbody tr th {\n",
       "        vertical-align: top;\n",
       "    }\n",
       "\n",
       "    .dataframe thead th {\n",
       "        text-align: right;\n",
       "    }\n",
       "</style>\n",
       "<table border=\"1\" class=\"dataframe\">\n",
       "  <thead>\n",
       "    <tr style=\"text-align: right;\">\n",
       "      <th></th>\n",
       "      <th>YEAR</th>\n",
       "      <th>SELLING_PRICE</th>\n",
       "      <th>KM_DRIVEN</th>\n",
       "      <th>SEATS</th>\n",
       "    </tr>\n",
       "  </thead>\n",
       "  <tbody>\n",
       "    <tr>\n",
       "      <th>count</th>\n",
       "      <td>8128.000000</td>\n",
       "      <td>8.128000e+03</td>\n",
       "      <td>8.128000e+03</td>\n",
       "      <td>7907.000000</td>\n",
       "    </tr>\n",
       "    <tr>\n",
       "      <th>mean</th>\n",
       "      <td>2013.804011</td>\n",
       "      <td>6.382718e+05</td>\n",
       "      <td>6.981951e+04</td>\n",
       "      <td>5.416719</td>\n",
       "    </tr>\n",
       "    <tr>\n",
       "      <th>std</th>\n",
       "      <td>4.044249</td>\n",
       "      <td>8.062534e+05</td>\n",
       "      <td>5.655055e+04</td>\n",
       "      <td>0.959588</td>\n",
       "    </tr>\n",
       "    <tr>\n",
       "      <th>min</th>\n",
       "      <td>1983.000000</td>\n",
       "      <td>2.999900e+04</td>\n",
       "      <td>1.000000e+00</td>\n",
       "      <td>2.000000</td>\n",
       "    </tr>\n",
       "    <tr>\n",
       "      <th>25%</th>\n",
       "      <td>2011.000000</td>\n",
       "      <td>2.549990e+05</td>\n",
       "      <td>3.500000e+04</td>\n",
       "      <td>5.000000</td>\n",
       "    </tr>\n",
       "    <tr>\n",
       "      <th>50%</th>\n",
       "      <td>2015.000000</td>\n",
       "      <td>4.500000e+05</td>\n",
       "      <td>6.000000e+04</td>\n",
       "      <td>5.000000</td>\n",
       "    </tr>\n",
       "    <tr>\n",
       "      <th>75%</th>\n",
       "      <td>2017.000000</td>\n",
       "      <td>6.750000e+05</td>\n",
       "      <td>9.800000e+04</td>\n",
       "      <td>5.000000</td>\n",
       "    </tr>\n",
       "    <tr>\n",
       "      <th>max</th>\n",
       "      <td>2020.000000</td>\n",
       "      <td>1.000000e+07</td>\n",
       "      <td>2.360457e+06</td>\n",
       "      <td>14.000000</td>\n",
       "    </tr>\n",
       "  </tbody>\n",
       "</table>\n",
       "</div>"
      ],
      "text/plain": [
       "              YEAR  SELLING_PRICE     KM_DRIVEN        SEATS\n",
       "count  8128.000000   8.128000e+03  8.128000e+03  7907.000000\n",
       "mean   2013.804011   6.382718e+05  6.981951e+04     5.416719\n",
       "std       4.044249   8.062534e+05  5.655055e+04     0.959588\n",
       "min    1983.000000   2.999900e+04  1.000000e+00     2.000000\n",
       "25%    2011.000000   2.549990e+05  3.500000e+04     5.000000\n",
       "50%    2015.000000   4.500000e+05  6.000000e+04     5.000000\n",
       "75%    2017.000000   6.750000e+05  9.800000e+04     5.000000\n",
       "max    2020.000000   1.000000e+07  2.360457e+06    14.000000"
      ]
     },
     "execution_count": 371,
     "metadata": {},
     "output_type": "execute_result"
    }
   ],
   "source": [
    "df.describe()"
   ]
  },
  {
   "cell_type": "code",
   "execution_count": 463,
   "id": "joint-effect",
   "metadata": {},
   "outputs": [],
   "source": [
    "data = df[df.columns[:-1]]\n",
    "data = data.apply(\n",
    "    lambda x: (x - x.mean()) / x.std()\n",
    ")\n",
    "\n",
    "data['SELLING_PRICE'] = df.SELLING_PRICE"
   ]
  },
  {
   "cell_type": "code",
   "execution_count": 531,
   "id": "innocent-baking",
   "metadata": {},
   "outputs": [
    {
     "data": {
      "text/plain": [
       "(8128, 1)"
      ]
     },
     "execution_count": 531,
     "metadata": {},
     "output_type": "execute_result"
    }
   ],
   "source": [
    "X = df.iloc[:,2].to_numpy()\n",
    "# Don't use data['Price'].to_numpy() in this case. It would return the wrong shape\n",
    "Y = df.iloc[:,1].to_numpy()\n",
    "X2 = []\n",
    "Y2 = []\n",
    "for i in range(len(X)):\n",
    "    X2.append(X[i]/1000)\n",
    "for i in range(len(Y)):\n",
    "    Y2.append(Y[i]/1000)\n",
    "X = np.array(X2)\n",
    "Y = np.array(Y2)\n",
    "X = X.reshape(8128, 1)\n",
    "Y = Y.reshape(8128, 1)\n",
    "\n",
    "X.shape\n",
    "Y.shape"
   ]
  },
  {
   "cell_type": "code",
   "execution_count": 532,
   "id": "mechanical-december",
   "metadata": {},
   "outputs": [
    {
     "name": "stdout",
     "output_type": "stream",
     "text": [
      "<class 'numpy.ndarray'>\n",
      "<class 'numpy.ndarray'>\n",
      "(8128, 1)\n",
      "(8128, 1)\n"
     ]
    }
   ],
   "source": [
    "print(type(X))\n",
    "print(type(Y))\n",
    "print(X.shape)\n",
    "print(Y.shape)"
   ]
  },
  {
   "cell_type": "code",
   "execution_count": 533,
   "id": "affected-powder",
   "metadata": {},
   "outputs": [
    {
     "name": "stdout",
     "output_type": "stream",
     "text": [
      "tensor([[145.5000],\n",
      "        [120.0000],\n",
      "        [140.0000],\n",
      "        ...,\n",
      "        [120.0000],\n",
      "        [ 25.0000],\n",
      "        [ 25.0000]])\n",
      "tensor([[450.],\n",
      "        [370.],\n",
      "        [158.],\n",
      "        ...,\n",
      "        [382.],\n",
      "        [290.],\n",
      "        [290.]])\n"
     ]
    }
   ],
   "source": [
    "inputs = torch.from_numpy(X)\n",
    "inputs = inputs.float()\n",
    "targets = torch.from_numpy(Y)\n",
    "targets = targets.float()\n",
    "print(inputs)\n",
    "print(targets)"
   ]
  },
  {
   "cell_type": "code",
   "execution_count": 534,
   "id": "adolescent-secretary",
   "metadata": {},
   "outputs": [
    {
     "data": {
      "text/plain": [
       "<torch.utils.data.dataset.TensorDataset at 0x7fb39c9b5ee0>"
      ]
     },
     "execution_count": 534,
     "metadata": {},
     "output_type": "execute_result"
    }
   ],
   "source": [
    "import torch.nn as nn\n",
    "from torch.utils.data import TensorDataset\n",
    "# Define dataset \n",
    "train_ds = TensorDataset(inputs, targets)\n",
    "train_ds"
   ]
  },
  {
   "cell_type": "code",
   "execution_count": 535,
   "id": "naked-customer",
   "metadata": {},
   "outputs": [],
   "source": [
    "from torch.utils.data import DataLoader"
   ]
  },
  {
   "cell_type": "code",
   "execution_count": 536,
   "id": "italic-budget",
   "metadata": {},
   "outputs": [],
   "source": [
    "# Define DataLoader\n",
    "batch_size = 5\n",
    "train_dl = DataLoader(train_ds, batch_size, shuffle=True)"
   ]
  },
  {
   "cell_type": "code",
   "execution_count": 537,
   "id": "automotive-lightning",
   "metadata": {},
   "outputs": [
    {
     "name": "stdout",
     "output_type": "stream",
     "text": [
      "tensor([[ 65.],\n",
      "        [120.],\n",
      "        [ 33.],\n",
      "        [ 40.],\n",
      "        [260.]])\n",
      "tensor([[195.],\n",
      "        [ 85.],\n",
      "        [610.],\n",
      "        [890.],\n",
      "        [550.]])\n"
     ]
    }
   ],
   "source": [
    "for xb, yb in train_dl:\n",
    "    print(xb)\n",
    "    print(yb)\n",
    "    break"
   ]
  },
  {
   "cell_type": "code",
   "execution_count": 538,
   "id": "rotary-stake",
   "metadata": {},
   "outputs": [
    {
     "name": "stdout",
     "output_type": "stream",
     "text": [
      "Parameter containing:\n",
      "tensor([[-0.7390]], requires_grad=True)\n",
      "Parameter containing:\n",
      "tensor([0.9035], requires_grad=True)\n"
     ]
    }
   ],
   "source": [
    "# Define model\n",
    "model = nn.Linear(1,1)\n",
    "print(model.weight)\n",
    "print(model.bias)"
   ]
  },
  {
   "cell_type": "code",
   "execution_count": 539,
   "id": "virgin-brand",
   "metadata": {},
   "outputs": [
    {
     "data": {
      "text/plain": [
       "[Parameter containing:\n",
       " tensor([[-0.7390]], requires_grad=True),\n",
       " Parameter containing:\n",
       " tensor([0.9035], requires_grad=True)]"
      ]
     },
     "execution_count": 539,
     "metadata": {},
     "output_type": "execute_result"
    }
   ],
   "source": [
    "# Parameters\n",
    "list(model.parameters())"
   ]
  },
  {
   "cell_type": "code",
   "execution_count": 540,
   "id": "actual-audio",
   "metadata": {},
   "outputs": [
    {
     "data": {
      "text/plain": [
       "tensor([[-106.6251],\n",
       "        [ -87.7799],\n",
       "        [-102.5604],\n",
       "        ...,\n",
       "        [ -87.7799],\n",
       "        [ -17.5722],\n",
       "        [ -17.5722]], grad_fn=<AddmmBackward>)"
      ]
     },
     "execution_count": 540,
     "metadata": {},
     "output_type": "execute_result"
    }
   ],
   "source": [
    "# Generate predictions\n",
    "preds = model(inputs.float())\n",
    "preds"
   ]
  },
  {
   "cell_type": "markdown",
   "id": "excellent-concept",
   "metadata": {},
   "source": [
    "## Loss Function"
   ]
  },
  {
   "cell_type": "code",
   "execution_count": 541,
   "id": "latin-estate",
   "metadata": {},
   "outputs": [],
   "source": [
    "import torch.nn.functional as F"
   ]
  },
  {
   "cell_type": "code",
   "execution_count": 542,
   "id": "varying-remainder",
   "metadata": {},
   "outputs": [
    {
     "name": "stdout",
     "output_type": "stream",
     "text": [
      "<class 'torch.Tensor'>\n",
      "<class 'torch.Tensor'>\n",
      "torch.Size([8128, 1])\n",
      "torch.Size([8128, 1])\n"
     ]
    }
   ],
   "source": [
    "# Define loss function\n",
    "loss_fn = F.mse_loss\n",
    "print(type(inputs))\n",
    "print(type(targets))\n",
    "print(inputs.shape)\n",
    "print(targets.shape)"
   ]
  },
  {
   "cell_type": "code",
   "execution_count": 543,
   "id": "third-makeup",
   "metadata": {},
   "outputs": [
    {
     "name": "stdout",
     "output_type": "stream",
     "text": [
      "tensor(1111189.2500, grad_fn=<MseLossBackward>)\n"
     ]
    }
   ],
   "source": [
    "loss = loss_fn(model(inputs), targets)\n",
    "print(loss)"
   ]
  },
  {
   "cell_type": "markdown",
   "id": "forbidden-degree",
   "metadata": {},
   "source": [
    "## Optimizer"
   ]
  },
  {
   "cell_type": "code",
   "execution_count": 544,
   "id": "equivalent-intention",
   "metadata": {},
   "outputs": [],
   "source": [
    "# Define optimizer\n",
    "opt = torch.optim.SGD(model.parameters(), lr=1e-5)"
   ]
  },
  {
   "cell_type": "markdown",
   "id": "developing-cornwall",
   "metadata": {},
   "source": [
    "## Train the model"
   ]
  },
  {
   "cell_type": "code",
   "execution_count": 545,
   "id": "arbitrary-printer",
   "metadata": {},
   "outputs": [],
   "source": [
    "# Utility function to train the model\n",
    "def fit(num_epochs, model, loss_fn, opt):\n",
    "    \n",
    "    # Repeat for a given number of epochs\n",
    "    for epoch in range(num_epochs):\n",
    "        \n",
    "        # Train with batches of data\n",
    "        for xb, yb in train_dl:\n",
    "            \n",
    "            # 1. Generate predictions\n",
    "            pred = model(xb)\n",
    "            \n",
    "            # 2. Calculate loss\n",
    "            loss = loss_fn(pred, yb)\n",
    "            \n",
    "            # 3. Compute gradients\n",
    "            loss.backward()\n",
    "            \n",
    "            # 4. Update parameters using gradients\n",
    "            opt.step()\n",
    "            \n",
    "            # 5. Reset the gradients to zero\n",
    "            opt.zero_grad()\n",
    "            \n",
    "        # Print the progress\n",
    "        if (epoch+1) % 10 == 0:\n",
    "            print('Epoch [{}/{}], Loss: {:.4f}'.format(epoch+1, num_epochs, loss.item()))"
   ]
  },
  {
   "cell_type": "code",
   "execution_count": null,
   "id": "accompanied-privilege",
   "metadata": {},
   "outputs": [
    {
     "name": "stdout",
     "output_type": "stream",
     "text": [
      "Epoch [10/100], Loss: 759409.4375\n",
      "Epoch [20/100], Loss: 83761.7188\n",
      "Epoch [30/100], Loss: 18940.8574\n",
      "Epoch [40/100], Loss: 31535.4043\n",
      "Epoch [50/100], Loss: 91490.4453\n"
     ]
    }
   ],
   "source": [
    "fit(100, model, loss_fn, opt)"
   ]
  },
  {
   "cell_type": "code",
   "execution_count": null,
   "id": "useful-missouri",
   "metadata": {},
   "outputs": [],
   "source": [
    "# Generate predictions \n",
    "preds = model(inputs)\n",
    "preds"
   ]
  },
  {
   "cell_type": "code",
   "execution_count": null,
   "id": "starting-failing",
   "metadata": {},
   "outputs": [],
   "source": [
    "# Compare with targets\n",
    "targets"
   ]
  }
 ],
 "metadata": {
  "kernelspec": {
   "display_name": "Python 3",
   "language": "python",
   "name": "python3"
  },
  "language_info": {
   "codemirror_mode": {
    "name": "ipython",
    "version": 3
   },
   "file_extension": ".py",
   "mimetype": "text/x-python",
   "name": "python",
   "nbconvert_exporter": "python",
   "pygments_lexer": "ipython3",
   "version": "3.9.4"
  }
 },
 "nbformat": 4,
 "nbformat_minor": 5
}
